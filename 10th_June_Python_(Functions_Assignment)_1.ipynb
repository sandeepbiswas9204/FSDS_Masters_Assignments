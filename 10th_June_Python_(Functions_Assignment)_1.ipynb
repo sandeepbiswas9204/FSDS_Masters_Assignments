{
  "nbformat": 4,
  "nbformat_minor": 0,
  "metadata": {
    "colab": {
      "provenance": []
    },
    "kernelspec": {
      "name": "python3",
      "display_name": "Python 3"
    },
    "language_info": {
      "name": "python"
    }
  },
  "cells": [
    {
      "cell_type": "code",
      "execution_count": null,
      "metadata": {
        "id": "kHRa2ktHs0TE"
      },
      "outputs": [],
      "source": [
        "#1 In Python, what is the difference between a built-in function and a user-defined function? Provide an example of each."
      ]
    },
    {
      "cell_type": "code",
      "source": [
        "#ANS:\n",
        "\n",
        "\n",
        "# built-in Function:\n",
        "\n",
        "#1  built-in functions are pre-defined functions provided by Python as part of its standard library\n",
        "#2  these functions are available for immediate use without the need for any import statements\n",
        "#3  they perform a variety of tasks and are designed for common operations which makes programm more convenient and efficient\n",
        "\n",
        "#E.g.\n",
        "\n",
        "\n",
        "a = \"Sandeep Kumar Biswas\"\n",
        "length = len(a)\n",
        "print(length)\n",
        "\n",
        "\n",
        "# user-defined function:\n",
        "\n",
        "#1  user-defined functions are created by the programmer to perform specific tasks as per requirement.\n",
        "#2  they are defined using the \"def\" keyword and have a customized name\n",
        "#3  user-defined functions encapsulate a set of instructions, allowing code reusability and modularity\n",
        "\n",
        "#E.g.\n",
        "\n",
        "def add_numbers(a,b):\n",
        "  return a+b\n",
        "\n",
        "result = add_numbers(10,5)\n",
        "print(result)"
      ],
      "metadata": {
        "id": "46sKpa58s-Zc"
      },
      "execution_count": null,
      "outputs": []
    },
    {
      "cell_type": "code",
      "source": [
        "# 2. How can you pass arguments to a function in Python? Explain the difference between positional arguments and keyword arguments."
      ],
      "metadata": {
        "id": "1B4NLDd3veMZ"
      },
      "execution_count": null,
      "outputs": []
    },
    {
      "cell_type": "code",
      "source": [
        "#ANS:\n",
        "\n",
        "# in python we can pass arguments to a function in two ways: positional arguments and keyword arguments.\n",
        "\n",
        "# Positional Arguments:\n",
        "\n",
        "#1 it is the most basic way to pass arguments to a function.\n",
        "#2 hey are matched to the function parameters based on their positions.\n",
        "#3 the number and order of the arguments in the function call must match the number and order of the parameters in the function definition.\n",
        "\n",
        "\n",
        "#E.g.\n",
        "def add_numbers(a, b):\n",
        "    return a + b\n",
        "\n",
        "result = add_numbers(5, 7)\n",
        "print(result)\n",
        "\n",
        "# here  5 and 7 are passed as positional arguments to the add_numbers() function, and they are assigned to the parameters a and b in the same order.\n",
        "\n",
        "\n",
        "#Keyword Arguments:\n",
        "\n",
        "#1 keyword arguments allow you to pass arguments to a function by specifying the parameter name along with the value in the function call\n",
        "#2 it is not dependent on the order of the parameters within the function definition, as long as each argument is specified with its corresponding parameter name.\n",
        "#3 keyword arguments provides clarity and makes the code more readable, especially when dealing with functions that have a large number of parameters\n",
        "\n",
        "def person(name, age, salary):\n",
        "  return f\"{name} {age} {salary}\"\n",
        "\n",
        "person1 = person(name = \"Sandeep Biswas\" , age = 30 , salary = 30000)\n",
        "print(person1)\n",
        "\n",
        "#  here name, age, and salary are passed as keyword arguments, so their order in the function call doesn't matter.\n",
        "#  keyword arguments must come after positional arguments"
      ],
      "metadata": {
        "id": "kgKh9DvPvg7J"
      },
      "execution_count": null,
      "outputs": []
    },
    {
      "cell_type": "code",
      "source": [
        "#3. What is the purpose of the return statement in a function? Can a function have multiple return statements? Explain with an example"
      ],
      "metadata": {
        "id": "Z1omZbT-AhAW"
      },
      "execution_count": null,
      "outputs": []
    },
    {
      "cell_type": "code",
      "source": [
        "#ANS:\n",
        "\n",
        "# return statement in a function is used to specify the value that the function should produce as its result when it is called\n",
        "# when the return statement is encountered in a function, the function's execution is immediately stopped and the specified value is sent back as the function's output, It allows functions to send data back to the caller.\n",
        "\n",
        "\n",
        "# Yes, a function can have multiple return statements but only one of them will be executed during the function call.\n",
        "# Once a return statement is executed, the function exits, and the control is transferred back to the caller with the specified return value\n",
        "\n",
        "def check_odd_even(num):\n",
        "  if num % 2 == 0:\n",
        "    return \"Even\"\n",
        "\n",
        "  else:\n",
        "    return \"Odd\"\n",
        "\n",
        "check1 = check_odd_even(4)\n",
        "check2 = check_odd_even(7)\n",
        "print(check1)\n",
        "print(check2)"
      ],
      "metadata": {
        "id": "Z623y690BMe8"
      },
      "execution_count": null,
      "outputs": []
    },
    {
      "cell_type": "code",
      "source": [
        "# 4. What are lambda functions in Python? How are they different from regular functions? Provide an example where a lambda function can be useful."
      ],
      "metadata": {
        "id": "tVlnLt44FfVi"
      },
      "execution_count": null,
      "outputs": []
    },
    {
      "cell_type": "code",
      "source": [
        "from ast import Expression\n",
        "#ANS:\n",
        "\n",
        "# Lambda is a functions in Python that can have any number of arguments but can only have one expression.\n",
        "\n",
        "# lambda arfuments:Expression\n",
        "\n",
        "lambda_sum = lambda a, b: a+b\n",
        "result = lambda_sum(3,4)\n",
        "print(result)\n",
        "\n",
        "# here we have a lambda_sum that adds two numbers a and b\n",
        "# lambda function is useful where we need to pass a simple function as an argument to another function\n",
        "\n",
        "#E.g.\n",
        "\n",
        "num = [2,4,5,6,7]\n",
        "square_numbers = map(lambda x:x**2,num)\n",
        "print(list(square_numbers))\n",
        "\n",
        "# sigle expression: it cannot contain multiple statements like regular functions, which can have a series of statements to perform complex operations.\n",
        "# it is created for short and simple tasks, mostly for one-time use. in Regular functions we gives a name when defined using the def keyword and allowing them to be called and reused from other parts of the code."
      ],
      "metadata": {
        "id": "RatxkNmPIsF3"
      },
      "execution_count": null,
      "outputs": []
    },
    {
      "cell_type": "code",
      "source": [
        "#5. How does the concept of \"scope\" apply to functions in Python? Explain the difference between local scope and global scope."
      ],
      "metadata": {
        "id": "hfByt0DkLEjY"
      },
      "execution_count": null,
      "outputs": []
    },
    {
      "cell_type": "code",
      "source": [
        "#ANS:\n",
        "# \"scope\" refers to the visibility or accessibility of variables within different parts of a program\n",
        "\n",
        "# There are two main types of scope in Python:\n",
        "#1 Local Scope:\n",
        "   #  local scope refers to the scope inside a function\n",
        "   #  variables defined within a function are considered \"local\" to that function\n",
        "   #  Local variables are only accessible within the function where they have defined\n",
        "   #  They cannot be accessed from outside that function\n",
        "\n",
        "#E.g.\n",
        "\n",
        "def Example():\n",
        "  x=10\n",
        "  print(x)\n",
        "\n",
        "Example()\n",
        "\n",
        "# here the variable x is defined within the function Example(), it is only accessible within the function and cannot be accessed outside of it\n",
        "\n",
        "#2 Local Scope:\n",
        "   #  global scope refers to the scope at the top level of a Python program or module\n",
        "   #  variables defined outside of any function have global scope and are called \"global variables.\"\n",
        "   #  global variables can be accessed and modified from anywhere within the program\n",
        "\n",
        "#E.g.\n",
        "\n",
        "y=10\n",
        "def Example1():\n",
        "  print(y)\n",
        "\n",
        "Example1()\n",
        "print(y)\n",
        "\n",
        "# here the variable y is defined outside of the function which makes it a global variable. It can be accessed both inside the function Example1() and outside it.\n",
        "# python first checks if there is a local variable with that name within the function. If it finds one, it uses the local variable, otherwise, it looks for a global variable with that name.\n",
        "\n",
        "#E.g.\n",
        "\n",
        "z=30\n",
        "\n",
        "def modify_global():\n",
        "  global z  # declare that z is a global variable\n",
        "  z=50\n",
        "\n",
        "modify_global()\n",
        "print(z)  # Output is 50"
      ],
      "metadata": {
        "colab": {
          "base_uri": "https://localhost:8080/"
        },
        "id": "LgxZ8UYdNbzc",
        "outputId": "1ac9cc2e-c883-4120-e0ba-97f3fc9f42bb"
      },
      "execution_count": null,
      "outputs": [
        {
          "output_type": "stream",
          "name": "stdout",
          "text": [
            "10\n",
            "10\n",
            "10\n",
            "50\n"
          ]
        }
      ]
    },
    {
      "cell_type": "code",
      "source": [
        "#6. How can you use the \"return\" statement in a Python function to return multiple values?"
      ],
      "metadata": {
        "id": "xEnxAA9zWUBN"
      },
      "execution_count": null,
      "outputs": []
    },
    {
      "cell_type": "code",
      "source": [
        "#ANS:\n",
        "\n",
        "# in a python function to return multiple values by using return statement we should seperate the values by commas.\n",
        "\n",
        "def values():\n",
        "  value1 = 45\n",
        "  value2 = \"Sandeep\"\n",
        "  value3 = [1,2,3,4,5]\n",
        "\n",
        "  return value1, value2, value3\n",
        "\n",
        "\n",
        "\n",
        "\n",
        "\n",
        "print(values())\n",
        "\n"
      ],
      "metadata": {
        "id": "9yoJ5b2SWVod",
        "colab": {
          "base_uri": "https://localhost:8080/"
        },
        "outputId": "75d45c91-c21a-4424-e154-8ad2f6a1aa6e"
      },
      "execution_count": 5,
      "outputs": [
        {
          "output_type": "stream",
          "name": "stdout",
          "text": [
            "(45, 'Sandeep', [1, 2, 3, 4, 5])\n"
          ]
        }
      ]
    },
    {
      "cell_type": "code",
      "source": [
        "#7. What is the difference between the \"pass by value\" and \"pass by reference\" concepts when it comes to function arguments in Python?"
      ],
      "metadata": {
        "id": "wVW3GItM50UW"
      },
      "execution_count": 6,
      "outputs": []
    },
    {
      "cell_type": "code",
      "source": [
        "#Ans:\n",
        "#pass by value:\n",
        "\n",
        "# when we pass an argument to a function, a copy of the value is created, and this copy will get passed to the function.\n",
        "# any modifications made to the parameter inside the function do not affect the original value of the argument outside the function.\n",
        "\n",
        "\n",
        "def example(num):\n",
        "  num = num + 10\n",
        "\n",
        "\n",
        "x=5\n",
        "example(x)\n",
        "print(x) # output is 5\n",
        "\n",
        "\n",
        "#pass by reference\n",
        "\n",
        "# when we pass an argument to a function it means we are passing a reference of the original object in memory.\n",
        "# any changes made to the parameter inside the function directly affect the original object outside the function.\n",
        "\n",
        "def Example(my_list):\n",
        "  my_list.append(8)\n",
        "\n",
        "\n",
        "my_list = [1,2,3,4,5]\n",
        "\n",
        "Example(my_list)\n",
        "print(my_list)\n",
        "\n",
        "# for immutable objects, it behaves like pass by value because you can't modify the original object inside the function.\n",
        "# for mutable objects, it behaves more like pass by reference because you can modify the original object inside the function."
      ],
      "metadata": {
        "id": "ee-KfHZc7_Fq"
      },
      "execution_count": null,
      "outputs": []
    },
    {
      "cell_type": "code",
      "source": [
        "#8. Create a function that can intake integer or decimal value and do following operations:\n",
        "    #a. Logarithmic function (log x)\n",
        "    #b. Exponential function (exp(x))\n",
        "    #c. Power function with base 2 (2^x)\n",
        "    #d. Square root"
      ],
      "metadata": {
        "id": "O_NowSJi8wau"
      },
      "execution_count": 9,
      "outputs": []
    },
    {
      "cell_type": "code",
      "source": [
        "import math\n",
        "\n",
        "def operation(x):\n",
        "  outcome = {\n",
        "      'Log':math.log(x),\n",
        "      'Exp':math.exp(x),\n",
        "      'Pow':math.pow(2,x),\n",
        "      'Squr':math.sqrt(x)\n",
        "  }\n",
        "  print(f\"Logarithmic function (log x) of {x} is {outcome['Log']}\")\n",
        "  print(f\"Exponential function (exp(x)) of {x} is {outcome['Exp']}\")\n",
        "  print(f\"Power function with base 2 (2^x) of {x} is {outcome['Pow']}\")\n",
        "  print(f\"Square root of {x} is {outcome['Squr']}\")\n",
        "\n"
      ],
      "metadata": {
        "id": "JrNUSw6c-JXv"
      },
      "execution_count": null,
      "outputs": []
    },
    {
      "cell_type": "code",
      "source": [
        "#9. Create a function that takes a full name as an argument and returns first name and last name."
      ],
      "metadata": {
        "id": "tFjI3fQk-Ydb"
      },
      "execution_count": 20,
      "outputs": []
    },
    {
      "cell_type": "code",
      "source": [
        "def name_split(x):\n",
        "  first_name= x.split(' ')[0]\n",
        "  last_name = x.split(' ')[-1]\n",
        "  print(first_name)\n",
        "  print(last_name)"
      ],
      "metadata": {
        "id": "3nwAn5jyC-GM"
      },
      "execution_count": 74,
      "outputs": []
    }
  ]
}