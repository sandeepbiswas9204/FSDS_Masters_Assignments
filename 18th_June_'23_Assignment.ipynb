{
  "nbformat": 4,
  "nbformat_minor": 0,
  "metadata": {
    "colab": {
      "provenance": [],
      "gpuType": "T4"
    },
    "kernelspec": {
      "name": "python3",
      "display_name": "Python 3"
    },
    "language_info": {
      "name": "python"
    },
    "accelerator": "GPU"
  },
  "cells": [
    {
      "cell_type": "code",
      "execution_count": null,
      "metadata": {
        "id": "6jIGQNaz7PX-"
      },
      "outputs": [],
      "source": [
        "#1. What is the role of the 'else' block in a try-except statement? Provide an example scenario where it would be useful."
      ]
    },
    {
      "cell_type": "code",
      "source": [
        "# 'else' block in a try-except statement is basically used to define the block of code that will be executed if no exceptions are raised by the block of code which is written in try block.\n",
        "\n",
        "#E.g.\n",
        "try:\n",
        "  a = float(input(\"Enter number: \"))\n",
        "  b = float(input(\"Enter number: \"))\n",
        "  x = a / b\n",
        "\n",
        "except ZeroDivisionError:\n",
        "  print(\"Error: Cannot devide by zero\")\n",
        "\n",
        "except ValueError:\n",
        "  print(\"Error: Invalid Input\")\n",
        "\n",
        "else:\n",
        "  print(\"Result: \",x)\n",
        "\n"
      ],
      "metadata": {
        "id": "iU9ig4NH_FLs"
      },
      "execution_count": null,
      "outputs": []
    },
    {
      "cell_type": "code",
      "source": [
        "#2. Can a try-except block be nested inside another try-except block? Explain with an example"
      ],
      "metadata": {
        "id": "hUPLwrxq9C6D"
      },
      "execution_count": null,
      "outputs": []
    },
    {
      "cell_type": "code",
      "source": [
        "# Yes it is possible and called nested exception handling.\n",
        "\n",
        "try:\n",
        "  numerator = int(input(\"Enter a numerator\"))\n",
        "\n",
        "  try:\n",
        "    denominator = int(input(\"Enter a denominator\"))\n",
        "    result = numerator / denominator\n",
        "\n",
        "  except ZeroDivisionError:\n",
        "    print(\"Cannot devide by zero\")\n",
        "  except ValueError:\n",
        "    print(\"denominator invalid input, please inter an integer\")\n",
        "\n",
        "  else:\n",
        "    print(\"Result: \", result)\n",
        "\n",
        "except ValueError:\n",
        "  print(\"invalid input, please inter an integer\")\n",
        "else:\n",
        "  print(\"Completed\")\n",
        "\n",
        "\n",
        "# if user provides non-integer input to the numerator a \"ValueError\" will be raised and the corrosponding \"except\" block for the outer \"try\" will handell it.\n",
        "# if user provides non-integer input to the denominator a \"ValueError\" will be raised and the corrosponding \"except\" block for the iner \"try\" will handell it.\n",
        "# If the user enters 0 as the denominator, \"ZeroDivisionError\" will be raised and the corresponding \"except\" block for the inner \"try\" will handles it.\n"
      ],
      "metadata": {
        "id": "jF-tYgGAO3qL"
      },
      "execution_count": null,
      "outputs": []
    },
    {
      "cell_type": "code",
      "source": [
        "#3. How can you create a custom exception class in Python? Provide an example that demonstrates its usage."
      ],
      "metadata": {
        "id": "hPPM2qF99HEL"
      },
      "execution_count": null,
      "outputs": []
    },
    {
      "cell_type": "code",
      "source": [
        "#ANS:\n",
        "# yes, we can create custom exception classes by defining a new class that inherits from the built-in \"Exception\" class or any of its subclasses\n",
        "# it allows us to define our own exception types with customize error messages and\n",
        "\n",
        "class CustomError(Exception):\n",
        "  def __init__(self, msg):\n",
        "    self.msg = msg\n",
        "    super().__init__(self.msg)\n",
        "\n",
        "def Calculate_square_root(number):\n",
        "  if number<0:\n",
        "    raise CustomError(\"Cannot calculate square root of a negative number\")\n",
        "  elif number == 0:\n",
        "    raise CustomError(\"Cannot calculate square root of zero \\0\")\n",
        "  else:\n",
        "    return number**0.5\n",
        "\n",
        "\n",
        "try:\n",
        "  num = int(input(\"Enter number: \"))\n",
        "  result = Calculate_square_root(num)\n",
        "  print(\"Square Root: \", result)\n",
        "\n",
        "except ValueError:\n",
        "  print(\"invalid input: please enter a valid number\")\n",
        "\n",
        "except CustomError as ce:\n",
        "  print(\"Customer Error: \",ce)\n",
        "\n",
        "else:\n",
        "  print(\"above is the result\")\n",
        "\n",
        "\n",
        "# it helps us to categorize and handle errors more effectively and also we can catch specific types of errors with meaningful messages also it makes your code more readable and maintainable"
      ],
      "metadata": {
        "id": "3cUG3rZKUS8u"
      },
      "execution_count": null,
      "outputs": []
    },
    {
      "cell_type": "code",
      "source": [
        "#4. What are some common exceptions that are built-in to Python?"
      ],
      "metadata": {
        "id": "hKG7Frgn9LA6"
      },
      "execution_count": null,
      "outputs": []
    },
    {
      "cell_type": "code",
      "source": [
        "# Below are the some common exception that are built in to python.\n",
        "\n",
        "# SyntaxError = It occurs when there's a syntax error in your code.\n",
        "# IndentationError = It occurs when there are issues with the indentation of your code.\n",
        "# ValueError = it occurs when an function receives an argument of the correct type but with an inappropriate value.\n",
        "# IndexError = it occurs when a sequence (list, string, etc.) index is out of range\n",
        "# FileNotFoundError = it occurs when attempt to open a file fails because the file doesn't exist.\n",
        "# NameError = It occurs when a local or global name is not found. For example, using a variable before it's defined.\n",
        "# ZeroDivisionError = It occurs when division by zero is encountered.\n",
        "# ImportError = It occurs when an import statement fails to find a module\n",
        "# Exception = This is the base class for all built in exception, we can catch this to handle any type of exception, but it is better to catch more specific exception.\n"
      ],
      "metadata": {
        "id": "Z6rWAUJHr0I0"
      },
      "execution_count": null,
      "outputs": []
    },
    {
      "cell_type": "code",
      "source": [
        "#5. What is logging in Python, and why is it important in software development?"
      ],
      "metadata": {
        "id": "MBiTRymm9NUE"
      },
      "execution_count": null,
      "outputs": []
    },
    {
      "cell_type": "code",
      "source": [
        "#ANS:\n",
        "# Logging in python helps us to record the events and information about the exectution of the programme, the primary purpose of logging is to provide a structured way to capture relevent information during runtime\n",
        "# it allows us to create log messages with different level such as DEBUG, INFO, WARNING, ERROR, and CRITICAL\n",
        "\n",
        "# Here is the key concepts and components of Python's logging module:\n",
        "\n",
        "# Loggers: it usually generates log messages, we can create multiple logger instances for different part of the application.\n",
        "# Handlers: it determines where the log messages are sent.it provides various handlers to send messages to different outputs such as files, the console or external services.\n",
        "# Formatters: it defined the format of the log message, we can sustomize how messages are presented including timestamp, severity level and the actual message.\n",
        "# Levels: log messages were associated with the severity level. such as DEBUG, INFO, WARNING, ERROR, and CRITICAL, you can control which level are captured based on your application requirement.\n",
        "\n",
        "\n",
        "import logging\n",
        "\n",
        "# Configuring logging\n",
        "logging.basicConfig(level = logging.DEBUG, format = '%(asctime)s - %(levelname)s - %(message)s')\n",
        "\n",
        "# Logger creation\n",
        "logger = logging.getLogger('my_logger')\n",
        "\n",
        "# Log messages\n",
        "logger.debug('Thsi is a debug message')\n",
        "logger.info('This is an info message')\n",
        "logger.warning('This is a warning message')\n",
        "logger.error('This is an error message')\n",
        "loger.critical('This is a critical meessage')\n"
      ],
      "metadata": {
        "id": "QUyL_lF-tzc0"
      },
      "execution_count": null,
      "outputs": []
    },
    {
      "cell_type": "code",
      "source": [
        "#6. Explain the purpose of log levels in Python logging and provide examples of when each log level would be appropriate."
      ],
      "metadata": {
        "id": "ihmgC3Kp9PU8"
      },
      "execution_count": null,
      "outputs": []
    },
    {
      "cell_type": "code",
      "source": [
        "#Ans:\n",
        "\n",
        "\n",
        "# log levels in Python logging provide a way to categorize the severity of log messages, each log level is equivalent to a certain severity level and\n",
        "# we can configure logging system to capture messages of specific level or higher.\n",
        "\n",
        "# DEBUG: it is the lowest log level and used for detailed debugging information, mainly used during developement and testing to capture detailed information about the application behaviour during runtime.\n",
        "\n",
        "import logging\n",
        "\n",
        "logging.basicConfig(level=logging.DEBUG)\n",
        "logger = logging.getLogger('my_logger')\n",
        "logger.debug\n",
        "\n",
        "\n",
        "# INFO: it is used to capture general information about the application operations, it is more informative than debugging messages\n",
        "\n",
        "import logging\n",
        "\n",
        "logging.basicConfig(level=logging.INFO)\n",
        "logger = logging.getLogger('my_logger')\n",
        "logger.info('Info message')\n",
        "\n",
        "#WARNING: it is used to indicate potential issues that might cause problems but don't prevent the programmme from running, basically used to signal issues that should be addressed bu not require immidiate attention.\n",
        "\n",
        "import logging\n",
        "\n",
        "logging.basicConfig(level=logging.WARNING)\n",
        "logger = logging.getLogger('my_logger')\n",
        "logger.warning('Warning message')\n",
        "\n",
        "#ERROR: it is used to indicate more serious issues that caused the programme to fail, these errors or issues requires attention and should be invistigated.\n",
        "\n",
        "import logging\n",
        "\n",
        "logging.basicConfig(level=logging.ERROR)\n",
        "logger = logging.getLogger('my_logger')\n",
        "logger.error('Error message')\n",
        "\n",
        "# CRITICAL: it is the highest log level used to capture the ccritical errors that might cause to the application crashing or serious data loss that require immidiate attention and invistigation.\n",
        "\n",
        "import logging\n",
        "\n",
        "logging.basicConfig(level=logging.CRITICAL)\n",
        "logger = logging.getLogger('my_logger')\n",
        "logger.critical('Critical message')\n",
        "\n"
      ],
      "metadata": {
        "id": "AZ3HpFUQ3P19"
      },
      "execution_count": null,
      "outputs": []
    },
    {
      "cell_type": "code",
      "source": [
        "#7. What are log formatters in Python logging, and how can you customise the log message format using formatters?"
      ],
      "metadata": {
        "id": "4083q41h9ViZ"
      },
      "execution_count": null,
      "outputs": []
    },
    {
      "cell_type": "code",
      "source": [
        "#Ans:\n",
        "# Log formatters in Python logging allow us to control the structure and content of log messages. it determines how the information within each log messages will be displayed including elements like timestamp, log level, message etc.\n",
        "# by using formatters in python logging we can customize the appearance of log messages that suits out requirements.\n",
        "\n",
        "# it provides a variety of built-in formatters, and we can also create custom formatters if the built-in ones do not meet our requirements.\n",
        "\n",
        "\n",
        "import logging\n",
        "\n",
        "# Creating formatter\n",
        "formatter = logging.Formatter('%(asctime)s - %(levelname)s - %(message)s')\n",
        "\n",
        "# Creating handler\n",
        "handler = logging.StreamHandler()\n",
        "handler.setFormatter(formatter)\n",
        "\n",
        "# Creating logger\n",
        "logger = logging.getLogger('my_logger')\n",
        "logger.addHandler(handler)\n",
        "logger.setLevel(logging.DEBUG)\n",
        "\n",
        "\n",
        "# Log messages\n",
        "logger.debug(\"Debug message\")\n",
        "logger.info(\"info message\")\n",
        "logger.warning(\"warning message\")\n",
        "\n",
        "\n",
        "# here we have created a custom formatter by using the formmatter class and specified the desired format using format code, the format codes are enclosed in parentheses and begins with a % sign\n",
        "# format codes:\n",
        "# '%(asctime)s' : Timestamp of the log message\n",
        "# '%(levelname)s' : Log level( DEBUG / INFO / WARNING)\n",
        "# '%(message)s' : The actual log message\n",
        "# we created StreamHandler that outputs log messages to the console and associated the formatter with this handler using setFormatter\n",
        "# we created a logger named 'my_logger' set its log level to DEBUG, and add the handler to it.\n"
      ],
      "metadata": {
        "id": "OKKxxKSWU_Rt"
      },
      "execution_count": null,
      "outputs": []
    },
    {
      "cell_type": "code",
      "source": [
        "#8. How can you set up logging to capture log messages from multiple modules or classes in a Python application?"
      ],
      "metadata": {
        "id": "1bNEQdX_9Y16"
      },
      "execution_count": null,
      "outputs": []
    },
    {
      "cell_type": "code",
      "source": [
        "# by importing logging module we can capture log messages from multiple modules or classes.\n",
        "\n",
        "import logging\n",
        "\n",
        "# Configuttion of logger\n",
        "logging.basicConfig(filename='myapp.log', level=logging.DEBUG, format='%(asctime)s - %(name)s - %(levelname)s - %(message)s')\n",
        "\n",
        "# logger instance\n",
        "logger = logging.getLogger(__name__)\n",
        "\n"
      ],
      "metadata": {
        "id": "ECwFAbPt2mbu"
      },
      "execution_count": null,
      "outputs": []
    },
    {
      "cell_type": "code",
      "source": [
        "import logging\n",
        "\n",
        "logger = logging.getLogger(__name__)\n",
        "\n",
        "def my_function():\n",
        "  logger.debug('Debug message')\n",
        "  logger.info('info message')\n",
        "  logger.warning('warning message')\n",
        "  logger.error('error message')\n",
        "  logger.critical('criticak message')\n",
        "\n",
        "# while runing application log message will be generated from different modules and classes and sent to the configured log gile."
      ],
      "metadata": {
        "id": "cQ4r40jT_vyw"
      },
      "execution_count": null,
      "outputs": []
    },
    {
      "cell_type": "code",
      "source": [
        "#9. What is the difference between the logging and print statements in Python? When should you use logging over print statements in a real-world application?"
      ],
      "metadata": {
        "id": "vp8OtUsE9cct"
      },
      "execution_count": null,
      "outputs": []
    },
    {
      "cell_type": "code",
      "source": [
        "# the primary purpose of loging module is to provide a configurable way to record events and information about the application behaviour, typically used for debugging, monitoring and troubleshooting while\n",
        "# print statement are primarily used for displaying information to the console during development, it is used for quick checks and to understand the flow of programme\n",
        "\n",
        "\n",
        "# in real world example:\n",
        "#logging is used whe we required to\n",
        "  #1 record events and information for debugging and troubleshooting\n",
        "  #2 monitor the behaviour of the application\n",
        "  #3 capture a detailed history of events with respect to time\n",
        "  #4 control where log messages are written and adjust log level without any changes in code\n",
        "\n",
        "\n",
        "#print statement is used where we required to\n",
        "  #1 Quick check and understand the programme flow\n",
        "  #2 temporary debugging\n",
        "  #3 simple command line script or interactive sessions where logging might be overkill.\n",
        "\n",
        "  # print statements are quick and convenient for debugging and exploration during development while logging is the preferred choice for real world applications"
      ],
      "metadata": {
        "id": "Dccsj7bJCQ1T"
      },
      "execution_count": null,
      "outputs": []
    },
    {
      "cell_type": "code",
      "source": [
        "#10. Write a Python program that logs a message to a file named \"app.log\" with the following requirements:\n",
        "    #1● The log message should be \"Hello, World!\"\n",
        "    #2● The log level should be set to \"INFO.\"\n",
        "    #3● The log file should append new log entries without overwriting previous ones."
      ],
      "metadata": {
        "id": "3rG8gt-h9fto"
      },
      "execution_count": null,
      "outputs": []
    },
    {
      "cell_type": "code",
      "source": [
        "import logging\n",
        "\n",
        "logging.basicConfig(filename='ERROR.log', level=logging.INFO, format='%(asctime)s - %(levelname)s - %(message)s', filemode='a')\n",
        "\n",
        "logger = logging.getLogger(__name__)\n",
        "\n",
        "logger.info('Hello, World!')"
      ],
      "metadata": {
        "id": "4jgB7DybFghr"
      },
      "execution_count": null,
      "outputs": []
    },
    {
      "cell_type": "code",
      "source": [
        "#11. Create a Python program that logs an error message to the console and a file named \"errors.log\" if an exception occurs during the program's execution. The error message should include the exception type and a timestamp."
      ],
      "metadata": {
        "id": "3six8I609vVR"
      },
      "execution_count": null,
      "outputs": []
    },
    {
      "cell_type": "code",
      "source": [
        "import logging\n",
        "import traceback\n",
        "import sys\n",
        "\n",
        "logging.basicConfig(level=logging.ERROR, format='%(asctime)s - %(levelname)s - %(message)s', filename='errors.log')\n",
        "\n",
        "\n",
        "logger = logging.getLogger(__name__)\n",
        "\n",
        "try:\n",
        "  result = 1 / 0\n",
        "\n",
        "except Exception as e:\n",
        "  error_message = f\"Exception Type: {type(e).__name__}, Timestamp: {logging.Formatter().formatTime()}\"\n",
        "  logger.error(error_message)\n",
        "\n",
        "  exc_type, exc_value, exc_traceback = sys.exc_info()\n",
        "  traceback_text = ''.join(traceback.format_exception(exc_type, exc_value, exc_traceback))\n",
        "  logger.error(traceback_text)\n",
        "\n",
        "  print(f\"An error occurred: {error_message}\")\n",
        "\n"
      ],
      "metadata": {
        "id": "l00NIu0590Ef"
      },
      "execution_count": null,
      "outputs": []
    },
    {
      "cell_type": "code",
      "source": [],
      "metadata": {
        "id": "ugcF5ZDlONnV"
      },
      "execution_count": null,
      "outputs": []
    }
  ]
}