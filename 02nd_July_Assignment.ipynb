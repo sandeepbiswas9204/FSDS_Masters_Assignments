{
  "nbformat": 4,
  "nbformat_minor": 0,
  "metadata": {
    "colab": {
      "provenance": [],
      "gpuType": "T4"
    },
    "kernelspec": {
      "name": "python3",
      "display_name": "Python 3"
    },
    "language_info": {
      "name": "python"
    },
    "accelerator": "GPU"
  },
  "cells": [
    {
      "cell_type": "code",
      "execution_count": null,
      "metadata": {
        "id": "TQY2-UEP0gD-"
      },
      "outputs": [],
      "source": [
        "#1. Explain what inheritance is in object-oriented programming and why it is used."
      ]
    },
    {
      "cell_type": "code",
      "source": [
        "# inheritance is a concept that allows us to inharit properties and behaviors from another class, it enables code reusability and better organization in our code.\n",
        "\n",
        "# Inheriting Attributes and Methods:\n",
        "\n",
        "    # When a child class inherits from a parent class, it automatically have access to all the attributes and methods defined in the parent class.\n",
        "    # The Child class can use these inherited attributes and methods directly without redefining them.\n",
        "\n",
        "# Overriding Methods:\n",
        "    # A child class can provide its implementation of a method that already exists in the superclas swhich is called method overriding.\n",
        "    # When the same method is called on an object of the Child class, Python will use the method defined in the child class by overriding the one in the parent class.\n",
        "\n",
        "# Adding New Attributes and Methods:\n",
        "    # the child class have its own unique attributes and methods in addition to those inherited from the parent class, this extend the functionality of the parent class itself.\n",
        "\n",
        "\n",
        "# Use of inheitance:\n",
        "\n",
        "    # Reusability of code: Inheritance allows us to reuse the code and functionalities of a parent class in multiple child classes which saves time and effort.\n",
        "\n",
        "# Modular Structure:\n",
        "    # Inheritance facilitates the creation of a modular structure in our code, we can write related classes into a class hierarchy with general features in the parentclass and specific features in childclasses.\n",
        "\n",
        "# Polymorphism:\n",
        "    # it allows objects of different child classes to be treated as an objects of a parent class and we can write codes that can work with objects of various child classes\n"
      ],
      "metadata": {
        "id": "0epTVve_LbTf"
      },
      "execution_count": null,
      "outputs": []
    },
    {
      "cell_type": "code",
      "source": [
        "#2 Discuss the concept of single inheritance and multiple inheritance, highlighting their differences and advantages."
      ],
      "metadata": {
        "id": "QSd3zJChdicP"
      },
      "execution_count": null,
      "outputs": []
    },
    {
      "cell_type": "code",
      "source": [
        "#ANS:\n",
        "# Single Inheritance:\n",
        "    # a child class can have only one immediate parent class where the child class can inheritate from only one parent class.\n",
        "\n",
        "# advantages:\n",
        "  #1. Simple = ease to understand and maintain\n",
        "  #2. reduced conflicts = since class can inherit from only one base class, there are no conflicts\n",
        "\n",
        "#E.g.\n",
        "\n",
        "class animal:\n",
        "  def speak(self):\n",
        "    print(\"animal speak\")\n",
        "\n",
        "class dog(animal):\n",
        "  def speak(self):\n",
        "    print(\"Dog barks\")\n",
        "\n",
        "# heare dog inharit from animal and override speak method.\n",
        "\n",
        "\n",
        "# Single Inheritance:\n",
        "  # multiple inheritance allows a child class to inherit from multiple parent classes it means a class can have multiple parent classes.\n",
        "  # it allows creation of complex class level hierarchies and code reusablility.\n",
        "\n",
        "# advantages:\n",
        "  #1. Code Reusability = int inables a class to inherit functionality from multiple sources, promoting code reuse and modularity.\n",
        "  #   It allows the creation of classes that combine features from multiple base classes, enhancing flexibility in class design.\n",
        "\n",
        "  #2. Customization = it alllows for the creation of specialized classes that inherit from multiple base classes.\n",
        "\n",
        "#E.g.\n",
        "\n",
        "class animal:\n",
        "  def run(self):\n",
        "    print(\"animal can run\")\n",
        "\n",
        "class bird:\n",
        "  def fly(self):\n",
        "    print(\"birds can fly\")\n",
        "\n",
        "class impressive_animals(animal, bird):\n",
        "  pass\n",
        "\n",
        "# impressive_animals inherits from both animal and bird\n",
        "\n",
        "\n",
        "\n",
        "# differences:\n",
        "  #1. single inheritance is simple and reduced confliction, while multiple inheritance allows for more code reusability and flexible class hierarchies.\n",
        "  #2. choice between them depends on the specific requirements of the task and the design of the class hierarchy.\n"
      ],
      "metadata": {
        "id": "MsuoPP2jnhIQ"
      },
      "execution_count": null,
      "outputs": []
    },
    {
      "cell_type": "code",
      "source": [
        "#3. Explain the terms \"base class\" and \"derived class\" in the context of inheritance."
      ],
      "metadata": {
        "id": "2Sly9TjBrhjf"
      },
      "execution_count": null,
      "outputs": []
    },
    {
      "cell_type": "code",
      "source": [
        "#ANS\n",
        "# In the context of inheritance in object-oriented programming in python  the terms \"base class\" and \"derived class\" in nothing but the relationship between two classes\n",
        "# base class is known as parent class from which other classes inherit properties and behavior while derived class is known as child class that inherits properties and behavior from a base class.\n",
        "# drive class extends the functionality of the base class by adding its own attributes and methods or by overriding while,\n",
        "# base class is a blueprint for the derived classes which provides a set of common attributes and methods that can be reused in multiple subclasses.\n",
        "\n",
        "#E.g.\n",
        "\n",
        "class animal:\n",
        "  def speak(self):\n",
        "    print(\"animal speaks\")\n",
        "\n",
        "class dog(animal):\n",
        "  def bark(self):\n",
        "    print(\"dog barks\")\n",
        "\n",
        "# here \"Animal\" is the base class.\n",
        "# here \"Dog\" is the derived class."
      ],
      "metadata": {
        "id": "of2c8bmvvT9f"
      },
      "execution_count": null,
      "outputs": []
    },
    {
      "cell_type": "code",
      "source": [
        "#4. What is the significance of the \"protected\" access modifier in inheritance? How does it differ from \"private\" and \"public\" modifiers?"
      ],
      "metadata": {
        "id": "5gAt-oYT7xEq"
      },
      "execution_count": null,
      "outputs": []
    },
    {
      "cell_type": "code",
      "source": [
        "#ANS:\n",
        "# The \"protected\" access modifier is used to control the visibility of fields and methods within a class in the context of inheritance.\n",
        "# When a class member is marked as \"protected,\" it can be accessed by the class itself, its derived classes, and any other classes within the same package.\n",
        "\n",
        "\n",
        "# Private Modifier:\n",
        "# Visibility = Private members are only accessible within the class where they are declared. They are not visible to any other class or  derived classe.\n",
        "# Purpose = The private modifier is used to hide the implementation details of a class from external entities, it ensures data encapsulation and protects sensitive information from direct manipulation by external classes.\n",
        "# Access = derived classes and external classes cannot access them directly\n",
        "\n",
        "class person:\n",
        "  def __init__(self):\n",
        "    self._name = \"Sandeep\" # private member\n",
        "\n",
        "  def get_name(self):\n",
        "    return self._name # private method accessing the privae member\n",
        "\n",
        "\n",
        "p1=person()\n",
        "p1.get_name()  #accessing the \"private\" method, except \"_name\" attribute directly\n",
        "\n",
        "\n",
        "# Protected Modifier:\n",
        "# Visibility = protected members are accessible within the class where they are defined and its derived classes. They are not visible to external classes that are not part of the inheritance hierarchy\n",
        "# Purpose = the protected modifier allows derived classes to access and modify certain members of the base class while still maintaining some level of data encapsulation\n",
        "# Access = protected members can be accessed within the class defining them and any classes that inherit from that class\n",
        "\n",
        "class vehicle:\n",
        "  def __init__(self,brand):\n",
        "    self._brand = brand # here brand is protected\n",
        "\n",
        "  def color(self):\n",
        "    print(\"Red\")\n",
        "\n",
        "class car(vehicle):\n",
        "  def __init__(self,brand,model):\n",
        "    super().__init__(brand)\n",
        "    self._model = model # here model is protected\n",
        "\n",
        "  def drive(self):\n",
        "    print(f\"Driving the {self._brand} and model: {self._model}\")\n",
        "\n",
        "\n",
        "\n",
        "a=car(\"BMW\",2500)\n",
        "print(a.color())         # accessing the \"protected\" method from the base class\n",
        "print(a.drive())         # accessing the \"protected\" member from the base class\n",
        "\n",
        "# Public Modifier:\n",
        "# Visibility = public members are accessible from anywhere in the program. They are not restricted by any scope and can be accessed by any class or object\n",
        "# Purpose = public members are used for interface methods or attributes that are intended to be used and interacted with by external classes\n",
        "# Access = public members can be accessed from any part of the program, including external classes\n",
        "\n",
        "\n",
        "class rectangle:\n",
        "    def __init__(self, width, height):\n",
        "        self.width = width    # \"public\" member\n",
        "        self.height = height  # \"public\" member\n",
        "\n",
        "    def area(self):\n",
        "        return self.width * self.height  # \"public\" method\n",
        "\n",
        "\n",
        "\n",
        "\n",
        "# \"Private\" members are accessible only within the defining class.\n",
        "# \"protected\" members are accessible within the defining class and its derived classes.\n",
        "# \"public\" members can be accessed from anywhere in the program.\n"
      ],
      "metadata": {
        "id": "XZaZMIk570mk"
      },
      "execution_count": null,
      "outputs": []
    },
    {
      "cell_type": "code",
      "source": [
        "# 5. What is the purpose of the \"super\" keyword in inheritance? Provide an example."
      ],
      "metadata": {
        "id": "KWX8XS_dSxSk"
      },
      "execution_count": null,
      "outputs": []
    },
    {
      "cell_type": "code",
      "source": [
        "# the \"super\" keyword in inheritance is used to call methods or access members from the parent class within a sub class.\n",
        "# it allows the derived class to extend or override the behavior of the base class while still using the functionality provided by the base class\n",
        "# it is useful when we want to add functionality in the derived class without completely re-implementing the methods which is already present in the base class.\n",
        "\n",
        "\n",
        "class animal:\n",
        "  def __init__(self, species):\n",
        "    self.species = species\n",
        "\n",
        "  def speak(self):\n",
        "    print(\"animal speak\")\n",
        "\n",
        "class dog(animal):\n",
        "  def __init__(self, species, breed):\n",
        "    super().__init__(species)\n",
        "    self.breed = breed\n",
        "\n",
        "  def speak(self):\n",
        "    super().speak()\n",
        "    print(\"dog barks\")\n",
        "\n",
        "\n",
        "\n",
        "d1=dog(\"ABC\", \"Lebradore\")\n",
        "\n",
        "d1.speak() # calling \"speak\" method of the Dog class\n",
        "\n",
        "\n",
        "# here\"animal\" and \"dog\" two classes\n",
        "# the \"animal\" class has an \"init\" method to initialize the species, and a \"speak\" method that prints a generic message for any animal.\n",
        "# the \"dog\" class is a subclass of \"Animal\" and extends its functionality by adding a \"breed\" attribute and a \"speak\" method that calls the \"speak\" method of the base class using the \"super\" keyword.\n",
        "# the \"super().speak()\" call in the \"dog\" class ensures that the \"speak\" method of the base class (\"animal\") is executed first before the additional behavior of the \"Dog\" class execution."
      ],
      "metadata": {
        "id": "HKCRCMM1UNVw"
      },
      "execution_count": null,
      "outputs": []
    },
    {
      "cell_type": "code",
      "source": [
        "# 6. Create a base class called \"Vehicle\" with attributes like \"make\", \"model\", and \"year\".\n",
        "# Then, create a derived class called \"Car\" that inherits from \"Vehicle\" and adds an\n",
        "# attribute called \"fuel_type\". Implement appropriate methods in both classes."
      ],
      "metadata": {
        "id": "1LoDKQVLWKBX"
      },
      "execution_count": null,
      "outputs": []
    },
    {
      "cell_type": "code",
      "source": [
        "class vehicle:\n",
        "  def __init__(self, make, model, year):\n",
        "    self.make = make\n",
        "    self.model = model\n",
        "    self.year = year\n",
        "\n",
        "\n",
        "  def display_info(self):\n",
        "    print(f\"Make:{self.make} Model:{self.model} Year:{self.year}\")\n",
        "\n",
        "\n",
        "class car(vehicle):\n",
        "  def __init__(self, make, model, year, fuel_type):\n",
        "    super().__init__(make, model, year)\n",
        "    self.fuel_type = fuel_type\n",
        "\n",
        "  def display_info(self):\n",
        "    super().display_info()\n",
        "    print(f\"Fuel Type: {self.fuel_type}\")\n",
        "\n",
        "\n",
        "\n",
        "c1 = car(\"Maruti\" , \"800\" , 2023 , \"Petrol\")\n",
        "c1.display_info()\n"
      ],
      "metadata": {
        "id": "ih0CJi_0XcM2"
      },
      "execution_count": null,
      "outputs": []
    },
    {
      "cell_type": "code",
      "source": [
        "#7 7. Create a base class called \"Employee\" with attributes like \"name\" and \"salary.\"\n",
        "#     Derive two classes, \"Manager\" and \"Developer,\" from \"Employee.\" Add an additional\n",
        "#     attribute called \"department\" for the \"Manager\" class and \"programming_language\"\n",
        "#     for the \"Developer\" class."
      ],
      "metadata": {
        "id": "aMRBN5NtZ3Fp"
      },
      "execution_count": null,
      "outputs": []
    },
    {
      "cell_type": "code",
      "source": [
        "class Employee:\n",
        "  def __init__(self, name, salary):\n",
        "    self.name = name\n",
        "    self.salary = salary\n",
        "\n",
        "  def display_info(self):\n",
        "    print(f\"Name:{self.name} Salary:{self.salary}\")\n",
        "\n",
        "class Manager(Employee):\n",
        "  def __init__(self, name, salary, department):\n",
        "    super().__init__(name, salary)\n",
        "    self.department = department\n",
        "\n",
        "  def display_info(self):\n",
        "    super().display_info()\n",
        "    print(f\"Department:{self.department}\")\n",
        "\n",
        "class programming_language(Employee):\n",
        "  def __init__(self, name, salary, programming_language):\n",
        "    super().__init__(name, salary)\n",
        "    self.programming_language = programming_language\n",
        "\n",
        "  def display_info(self):\n",
        "    super().display_info()\n",
        "    print(f\"Programming Language: {self.programming_language}\")\n",
        "\n",
        "\n",
        "m1= Manager(\"Sandeep Biswas\", 55000, \"Java\")\n",
        "d2= programming_language(\"Aman Kumar\", 69000, \"Python\")\n",
        "\n",
        "m1.display_info()\n",
        "d2.display_info()"
      ],
      "metadata": {
        "id": "q-d18uNjbfGi"
      },
      "execution_count": null,
      "outputs": []
    },
    {
      "cell_type": "code",
      "source": [
        "#8. Design a base class called \"Shape\" with attributes like \"colour\" and \"border_width.\"\n",
        "#   Create derived classes, \"Rectangle\" and \"Circle,\" that inherit from \"Shape\" and add\n",
        "#   specific attributes like \"length\" and \"width\" for the \"Rectangle\" class and \"radius\" for\n",
        "#   the \"Circle\" class."
      ],
      "metadata": {
        "id": "pE6LQZi4MmJC"
      },
      "execution_count": 2,
      "outputs": []
    },
    {
      "cell_type": "code",
      "source": [
        "class shape:\n",
        "  def __init__(self, color, border_width):\n",
        "    self.color = color\n",
        "    self.border_width = border_width\n",
        "\n",
        "  def display_info(self):\n",
        "    print(f\"Color:{self.color}  Border Width:{self.border_width}\")\n",
        "\n",
        "\n",
        "class rectangle(shape):\n",
        "  def __init__(self,color, border_width, length, width):\n",
        "    super().__init__(color, border_width)\n",
        "    self.length = length\n",
        "    self.width = width\n",
        "\n",
        "  def display_info(self):\n",
        "    super().display_info()\n",
        "    print(f\" Length: {self.length}  Width:{self.width}\")\n",
        "\n",
        "class circle(shape):\n",
        "  def __init__(self,color, border_width, radius):\n",
        "    super().__init__(color, border_width)\n",
        "    self.radius = radius\n",
        "\n",
        "  def display_info(self):\n",
        "    super().display_info()\n",
        "    print(f\"Radius:{self.radius}\")\n",
        "\n",
        "\n",
        "r1=rectangle(\"Red\",12,10,5)\n",
        "c1=circle(\"yelllow\",8,5)\n",
        "\n",
        "r1.display_info()\n",
        "c1.display_info()"
      ],
      "metadata": {
        "id": "IDlsRt3yMtvw"
      },
      "execution_count": null,
      "outputs": []
    },
    {
      "cell_type": "code",
      "source": [
        "#9. Create a base class called \"Device\" with attributes like \"brand\" and \"model.\" Derive\n",
        "#   two classes, \"Phone\" and \"Tablet,\" from \"Device.\" Add specific attributes like\n",
        "#   \"screen_size\" for the \"Phone\" class and \"battery_capacity\" for the \"Tablet\" class."
      ],
      "metadata": {
        "id": "S_7TxgEVPkhz"
      },
      "execution_count": 9,
      "outputs": []
    },
    {
      "cell_type": "code",
      "source": [
        "class Device:\n",
        "  def __init__(self,brand, model):\n",
        "    self.brand = brand\n",
        "    self.model =model\n",
        "\n",
        "  def display_info(self):\n",
        "    print(f\" Brand:{self.brand}  Model:{self.model}\")\n",
        "\n",
        "\n",
        "class phone(Device):\n",
        "  def __init__(self, brand, model, screen_size):\n",
        "    super().__init__(brand, model)\n",
        "    self.screen_size= screen_size\n",
        "\n",
        "  def display_info(self):\n",
        "    super().display_info()\n",
        "    print(f\"Screen Size:{self.screen_size}\")\n",
        "\n",
        "\n",
        "\n",
        "class Tablet(Device):\n",
        "  def __init__(self, brand, model, battery_capacity):\n",
        "     super().__init__(brand, model)\n",
        "     self.battery_capacity = battery_capacity\n",
        "\n",
        "  def display_info(self):\n",
        "    super().display_info()\n",
        "    print(f\"Battery Capacity:{self.battery_capacity}\")\n",
        "\n",
        "\n",
        "p1 = phone(\"Nokia\",1600,\"19:9\")\n",
        "t1= Tablet(\"Samsung\",\"Galaxy\",\"1500MH\")\n",
        "\n",
        "p1.display_info()\n",
        "t1.display_info()"
      ],
      "metadata": {
        "id": "sfRdF-qTPo4k"
      },
      "execution_count": null,
      "outputs": []
    },
    {
      "cell_type": "code",
      "source": [
        "#10. Create a base class called \"BankAccount\" with attributes like \"account_number\" and\n",
        "#    \"balance.\" Derive two classes, \"SavingsAccount\" and \"CheckingAccount,\" from\n",
        "#    \"BankAccount.\" Add specific methods like \"calculate_interest\" for the\n",
        "#    \"SavingsAccount\" class and \"deduct_fees\" for the \"CheckingAccount\" class."
      ],
      "metadata": {
        "id": "2hpmViVqVYwY"
      },
      "execution_count": 18,
      "outputs": []
    },
    {
      "cell_type": "code",
      "source": [
        "class BankAccount:\n",
        "  def __init__(self, account_number, balance):\n",
        "    self.account_number = account_number\n",
        "    self.balance = balance\n",
        "\n",
        "  def display_info(self):\n",
        "    print(f\"Account Number:{self.account_number}\")\n",
        "    print(f\"Balance:{self.balance}\")\n",
        "\n",
        "\n",
        "\n",
        "class SavingsAccount(BankAccount):\n",
        "  def __init__(self,account_number, balance,interest_rate):\n",
        "    super().__init__(account_number, balance)\n",
        "    self.interest_rate = interest_rate\n",
        "\n",
        "  def calculate_interest(self):\n",
        "    interest = self.balance * self.interest_rate\n",
        "    self.balance = self.balance + interest\n",
        "    print(f\"The interest Amount is:{interest}\")\n",
        "    print(f\"The available Balance is:{self.balance}\")\n",
        "\n",
        "\n",
        "\n",
        "class CheckingAccount(BankAccount):\n",
        "  def __init__(self, account_number, balance, fee):\n",
        "    super().__init__(account_number, balance)\n",
        "    self.fee = fee\n",
        "\n",
        "\n",
        "  def deduct_fees(self):\n",
        "    self.balance = self.balance - self.fee\n",
        "    print(f\"The fee deduction is:{self.fee}\")\n",
        "    print(f\"The available balance is:{self.balance}\")\n",
        "\n",
        "\n",
        "Account1 = SavingsAccount(\"1234\",1200,0.02)\n",
        "Account2 = CheckingAccount(\"1234\",2000,100)\n",
        "\n",
        "Account1.calculate_interest()\n",
        "Account2.deduct_fees()"
      ],
      "metadata": {
        "id": "_nfl1j5gVgcx"
      },
      "execution_count": 25,
      "outputs": []
    }
  ]
}