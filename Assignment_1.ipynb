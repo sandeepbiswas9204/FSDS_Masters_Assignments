{
  "nbformat": 4,
  "nbformat_minor": 0,
  "metadata": {
    "colab": {
      "provenance": []
    },
    "kernelspec": {
      "name": "python3",
      "display_name": "Python 3"
    },
    "language_info": {
      "name": "python"
    }
  },
  "cells": [
    {
      "cell_type": "code",
      "execution_count": 2,
      "metadata": {
        "id": "5pSa5RQFfBIo"
      },
      "outputs": [],
      "source": [
        "#1. In the below elements which of them are values or an expression? eg:- values can be integer or string and expressions will be mathematical operators.\n",
        "#    *\n",
        "#    'hello'\n",
        "#    -87.8\n",
        "#    -\n",
        "#    /\n",
        "#    +\n",
        "#    6\n"
      ]
    },
    {
      "cell_type": "code",
      "source": [
        "#ANS:\n",
        "#  *           is expressions\n",
        "#  'hello'     is values\n",
        "#  -87.8       is expressions\n",
        "#  -           is expressions\n",
        "#  /           is expressions\n",
        "#  +\t         is expressions\n",
        "#  6           is values\n"
      ],
      "metadata": {
        "id": "3t_I7rQrfvm_"
      },
      "execution_count": 3,
      "outputs": []
    },
    {
      "cell_type": "code",
      "source": [
        "#2 What is the difference between string and variable?"
      ],
      "metadata": {
        "id": "EUSs0RD3gbpH"
      },
      "execution_count": 4,
      "outputs": []
    },
    {
      "cell_type": "code",
      "source": [
        "#Ans:\n",
        "#    String is a Data Type in python programming language that represents sequesce of characters enclosed by inverted commas while\n",
        "#    variables is a alias that indicates a memory location where assigned data can be stored and accessed letter.\n",
        "# Example:\n",
        "#        \"sandeep\"\n",
        "#        Name=\"Sandeep Kumar Biswas\"\n",
        "\n",
        "# in above example \"sandeep\" and \"Sandeep Kumar Biswas\" is string while Name is a variable which is holding a string value i.e. \"Sandeep Kumar Biswas\""
      ],
      "metadata": {
        "id": "bAA2PIslgf3l"
      },
      "execution_count": 5,
      "outputs": []
    },
    {
      "cell_type": "code",
      "source": [
        "#3. Describe three different data types."
      ],
      "metadata": {
        "id": "jJ4k3N41ibVW"
      },
      "execution_count": 6,
      "outputs": []
    },
    {
      "cell_type": "code",
      "source": [
        "#ANS:\n",
        "#    The three different data types in python is Text Type, Numeric Types, Sequence Types\n",
        "#     Text Type - string or sequence of characters under inverted commas is part of text type data types (Ex- \"Sandeep Kumar Biswas 7739797\")\n",
        "#     Numeric Types - whole numbers (Int), decimal numbers(float) and complex numbers are part of Numetic data types. (Ex- 23,50000,34.56,456,90, 3+7j)\n",
        "#     Sequence Types - list, tuple are part of sequence data types (Ex- [2,3,\"Sandeep\"], (2,3,\"Sandeep\"))"
      ],
      "metadata": {
        "id": "3ylSHMb6igB-"
      },
      "execution_count": 8,
      "outputs": []
    },
    {
      "cell_type": "code",
      "source": [
        "#4. What is an expression made up of? What do all expressions do?"
      ],
      "metadata": {
        "id": "MQpmwS-clcbV"
      },
      "execution_count": 9,
      "outputs": []
    },
    {
      "cell_type": "code",
      "source": [
        "#ANS:\n",
        "#    Expressions is basically combination of values, variables, operators, and function that evaluates the results in single value."
      ],
      "metadata": {
        "id": "nTWB5vUbliIH"
      },
      "execution_count": 3,
      "outputs": []
    },
    {
      "cell_type": "code",
      "source": [
        "#5 This assignment statements, like spam = 10. What is the difference between an expression and a statement?"
      ],
      "metadata": {
        "id": "ReYXv-sY8ZDx"
      },
      "execution_count": 4,
      "outputs": []
    },
    {
      "cell_type": "code",
      "source": [
        "#ANS:\n",
        "#     spam = 10 here 10 is expression that is holding a value of 10, spam is variable that holds the expression 10 and the whole i.e. (spam=10) is statement."
      ],
      "metadata": {
        "id": "W8CA4sKo8cbE"
      },
      "execution_count": 5,
      "outputs": []
    },
    {
      "cell_type": "code",
      "source": [
        "#6 After running the following code, what does the variable bacon contain?"
      ],
      "metadata": {
        "id": "T-jqsrqI8_Nj"
      },
      "execution_count": 9,
      "outputs": []
    },
    {
      "cell_type": "code",
      "source": [
        "#ANS:\n",
        "\n",
        "bacon = 22\n",
        "bacon + 1\n",
        "\n",
        "# bacon is now holding value 23"
      ],
      "metadata": {
        "colab": {
          "base_uri": "https://localhost:8080/"
        },
        "id": "iCSGihxw9EYH",
        "outputId": "fe34f21c-a089-4ef3-ae2c-e95fb5a757e5"
      },
      "execution_count": 10,
      "outputs": [
        {
          "output_type": "execute_result",
          "data": {
            "text/plain": [
              "23"
            ]
          },
          "metadata": {},
          "execution_count": 10
        }
      ]
    },
    {
      "cell_type": "code",
      "source": [
        "#7  What should the values of the following two terms be?"
      ],
      "metadata": {
        "id": "BcDeZltx9MLk"
      },
      "execution_count": 11,
      "outputs": []
    },
    {
      "cell_type": "code",
      "source": [
        "#ANS:\n",
        "print('spam' + 'spamspam')  # Result \"spamspamspam\"\n",
        "print('spam' * 3)           # Result \"spamspamspam\"\n"
      ],
      "metadata": {
        "colab": {
          "base_uri": "https://localhost:8080/"
        },
        "id": "jJIYkd_z9cBV",
        "outputId": "d6df2e82-c1cb-40f4-f12a-f4ba1681370e"
      },
      "execution_count": 18,
      "outputs": [
        {
          "output_type": "stream",
          "name": "stdout",
          "text": [
            "spamspamspam\n",
            "spamspamspam\n"
          ]
        }
      ]
    },
    {
      "cell_type": "code",
      "source": [
        "#8 Why is eggs a valid variable name while 100 is invalid?"
      ],
      "metadata": {
        "id": "npbWndQw9jYl"
      },
      "execution_count": 19,
      "outputs": []
    },
    {
      "cell_type": "code",
      "source": [
        "#ANS:\n",
        "#   Variable name must be starts with a letter."
      ],
      "metadata": {
        "id": "YVHYg1nR_E1I"
      },
      "execution_count": 20,
      "outputs": []
    },
    {
      "cell_type": "code",
      "source": [
        "#9  What three functions can be used to get the integer, floating-point number, or string version of a value?"
      ],
      "metadata": {
        "id": "OBE9f5-l_iAS"
      },
      "execution_count": 21,
      "outputs": []
    },
    {
      "cell_type": "code",
      "source": [
        "value=22\n",
        "integer_value=int(value) # this function is used to convert a value into a integer\n",
        "print(value)\n",
        "\n",
        "value1=22.22\n",
        "float_value=float(value1) # this function is used to convert a value into a float\n",
        "print(value1)\n",
        "type(value1)\n",
        "\n",
        "value2=22\n",
        "string_value=str(value2) # this function is used to convert a value into a string\n",
        "print(value2)\n",
        "type(value2)"
      ],
      "metadata": {
        "colab": {
          "base_uri": "https://localhost:8080/"
        },
        "id": "JSrGZ8LZ_msx",
        "outputId": "26c18ea0-9f96-41db-d399-cb6225908ffc"
      },
      "execution_count": 41,
      "outputs": [
        {
          "output_type": "stream",
          "name": "stdout",
          "text": [
            "22\n",
            "22.22\n",
            "22\n"
          ]
        },
        {
          "output_type": "execute_result",
          "data": {
            "text/plain": [
              "int"
            ]
          },
          "metadata": {},
          "execution_count": 41
        }
      ]
    },
    {
      "cell_type": "code",
      "source": [
        "#10 Why does this expression cause an error? How can you fix it?"
      ],
      "metadata": {
        "id": "rWljpsZtNJoZ"
      },
      "execution_count": 43,
      "outputs": []
    },
    {
      "cell_type": "code",
      "source": [
        "#ANS:\n",
        "print(\"I have eaten ' + 99 + ' burritos.\") # to replace the single quote with double quote at the beginining and at the end."
      ],
      "metadata": {
        "colab": {
          "base_uri": "https://localhost:8080/"
        },
        "id": "SqJrIYWUOINp",
        "outputId": "8791b2c3-d10d-443a-da54-dee445444dbe"
      },
      "execution_count": 48,
      "outputs": [
        {
          "output_type": "stream",
          "name": "stdout",
          "text": [
            "I have eaten ' + 99 + ' burritos.\n"
          ]
        }
      ]
    },
    {
      "cell_type": "code",
      "source": [],
      "metadata": {
        "id": "JtFzZy9rO9Oq"
      },
      "execution_count": null,
      "outputs": []
    }
  ]
}