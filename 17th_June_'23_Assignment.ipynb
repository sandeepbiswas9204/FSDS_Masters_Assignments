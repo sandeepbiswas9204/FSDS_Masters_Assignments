{
  "nbformat": 4,
  "nbformat_minor": 0,
  "metadata": {
    "colab": {
      "provenance": [],
      "gpuType": "T4"
    },
    "kernelspec": {
      "name": "python3",
      "display_name": "Python 3"
    },
    "language_info": {
      "name": "python"
    },
    "accelerator": "GPU"
  },
  "cells": [
    {
      "cell_type": "code",
      "execution_count": null,
      "metadata": {
        "id": "kuUWdir6lRiK"
      },
      "outputs": [],
      "source": [
        "#1. What is the role of try and exception block?"
      ]
    },
    {
      "cell_type": "code",
      "source": [
        "# Try:\n",
        "# try and exception is used to handle errors and exceptions that may occur during the execution of code in python.\n",
        "# it contains the piece of code which migh raise an exception\n",
        "\n",
        "# Except:\n",
        "# you can have one or more except block to handel the exception raised by the piece of code written within try block, Each \"except\" block specifies a type of exception that you want to catch and handle\n",
        "\n",
        "try:\n",
        "  num = int(input(\"enter a number:\" ))\n",
        "  result = 50/num\n",
        "  print(f\"Result : {result}\")\n",
        "\n",
        "except ZeroDivisionError:\n",
        "  print(f\"Error: cannot devide by zero\")\n",
        "except NameError:\n",
        "  print(f\"Error: Please enter number instead of string value\")\n",
        "except TypeError:\n",
        "  print(f\"Error: please enter number instead of string value\")\n",
        "except Exception as e:\n",
        "  print(\"An unexpected error occured:\", e)"
      ],
      "metadata": {
        "id": "BWKlURegPvSt"
      },
      "execution_count": null,
      "outputs": []
    },
    {
      "cell_type": "code",
      "source": [
        "#2. What is the syntax for a basic try-except block?"
      ],
      "metadata": {
        "id": "c-JsLruglYXO"
      },
      "execution_count": null,
      "outputs": []
    },
    {
      "cell_type": "code",
      "source": [
        "try:\n",
        "  # Code that might have raise an exception.\n",
        "\n",
        "except ZeroDivisionError:\n",
        "  # Code to handle ZeroDivisionError\n",
        "\n",
        "except ValueError:\n",
        "  # Code to handle ValueError\n",
        "\n",
        "except ExceptionType:\n",
        "  # Code to handle the exception of type ExceptionType"
      ],
      "metadata": {
        "id": "4hRGjHjnPv94"
      },
      "execution_count": null,
      "outputs": []
    },
    {
      "cell_type": "code",
      "source": [
        "#3. What happens if an exception occurs inside a try block and there is no matching except block?"
      ],
      "metadata": {
        "id": "8x17FzrMlb_y"
      },
      "execution_count": null,
      "outputs": []
    },
    {
      "cell_type": "code",
      "source": [
        "#ANS:\n",
        "\n",
        "#  the programme will get terminated and the default handler will display an error which includes information about the exception type which is known as unhandled exception\n",
        "#  because the program doesn't provide any mechanism to catch and handle that specific type of exception\n",
        "\n",
        "try:\n",
        "  num = int(input(\"enter a number:\" ))\n",
        "  result = 50/num\n",
        "  print(f\"Result : {result}\")\n",
        "\n",
        "#except ZeroDivisionError:\n",
        "  #print(f\"Error: cannot devide by zero\")\n",
        "except NameError:\n",
        "  print(f\"Error: Please enter number instead of string value\")\n",
        "except TypeError:\n",
        "  print(f\"Error: please enter number instead of string value\")\n",
        "#except Exception as e:\n",
        "  #print(\"An unexpected error occured:\", e)\n",
        "\n",
        "\n",
        "# here in above written programme exception for ZeroDivisionError  was not written hence it unable to handel this specific exception.\n"
      ],
      "metadata": {
        "id": "Bn2UE11dPwXP"
      },
      "execution_count": null,
      "outputs": []
    },
    {
      "cell_type": "code",
      "source": [
        "#4. What is the difference between using a bare except block and specifying a specific exception type?"
      ],
      "metadata": {
        "id": "xEIYVNthlffJ"
      },
      "execution_count": null,
      "outputs": []
    },
    {
      "cell_type": "code",
      "source": [
        "# in try expect we can either specify exception type or use a bare 'except' block, the difference between them is approaches lies in how exceptions are caught and handelled.\n",
        "\n",
        "# Specific Exception type:\n",
        "# When pecific exception type in the except block, only expections of that type will be caught and handelled by that block, this approaches allows us to handel different types of exception\n",
        "# in different ways  and provice more controls over error handlling.\n",
        "\n",
        "# E.g.\n",
        "\n",
        "ry:\n",
        "    # code that might raise an exception\n",
        "except ExceptionType1:\n",
        "    # handle ExceptionType1\n",
        "except ExceptionType2:\n",
        "    # handle ExceptionType2\n",
        "\n",
        "\n",
        "# Bare Except block is a generic exception handler without specifying any exception type it will catch all kind of exceptions like ValueError, TypeError etc.\n",
        "# This approach can be risky because it might catch and handle unexpected exceptions and makes it harder to debug issues or identify specific problems in your code.\n",
        "\n",
        "try:\n",
        "    # code that might raise an exception\n",
        "except:\n",
        "    # handle all exceptions\n",
        "\n",
        "\n",
        "# prefer to use specific exception types to maintain clear and controlled error handling while writing codes."
      ],
      "metadata": {
        "id": "ejQzZyytPwxN"
      },
      "execution_count": null,
      "outputs": []
    },
    {
      "cell_type": "code",
      "source": [
        "#5. Can you have nested try-except blocks in Python? If yes, then give an example."
      ],
      "metadata": {
        "id": "CZ5NgsO_lljr"
      },
      "execution_count": null,
      "outputs": []
    },
    {
      "cell_type": "code",
      "source": [
        "# Yes we can have nested try-except blocks in python, heare is an example\n",
        "\n",
        "try:\n",
        "  value = int(input(\"Enter an number\"))\n",
        "  try:\n",
        "    value2 = (int(input(\"Enter an number\")))\n",
        "    result = value / value2\n",
        "  except ZeroDivisionError:\n",
        "    print(\"Cannot divide by zero\")\n",
        "except  ValueError:\n",
        "  print(\"Invalid Input\")\n",
        "\n",
        "except Exception as ex:\n",
        "  print(\"An exception occurred: \", ex)\n",
        "\n",
        "else:\n",
        "  print(\"Difision Result: \",result)\n",
        "\n",
        "finally:\n",
        "  print(\"Execution done\")"
      ],
      "metadata": {
        "id": "TV4fklLzPxNk"
      },
      "execution_count": null,
      "outputs": []
    },
    {
      "cell_type": "code",
      "source": [
        "#6. Can we use multiple exception blocks, if yes then give an example."
      ],
      "metadata": {
        "id": "J2sHDUe_lojF"
      },
      "execution_count": null,
      "outputs": []
    },
    {
      "cell_type": "code",
      "source": [
        "# Yes we can use multiple exception blocks to handel different kind of exceptions in a try-except statement\n",
        "# which allows us to specify different actions or hendelling logics for varios types of exceptions  the might occur within  the same 'try' block\n",
        "\n",
        "try:\n",
        "  num = int(input(\"enter a number:\" ))\n",
        "  result = 50/num\n",
        "  #print(f\"Result : {result}\")\n",
        "\n",
        "except ZeroDivisionError:\n",
        "  print(f\"Error: cannot devide by zero\")\n",
        "except NameError:\n",
        "  print(f\"Error: Please enter number instead of string value\")\n",
        "except TypeError:\n",
        "  print(f\"Error: please enter number instead of string value\")\n",
        "except Exception as e:\n",
        "  print(\"An unexpected error occured:\", e)\n",
        "else:\n",
        "  print(\"Result: \", result)\n",
        "finally:\n",
        "  print(\"Code executed\")"
      ],
      "metadata": {
        "id": "1SJb-xphPxp9"
      },
      "execution_count": null,
      "outputs": []
    },
    {
      "cell_type": "code",
      "source": [
        "#7. Write the reason due to which following errors are raised:\n",
        "\n",
        "    #a. EOFError\n",
        "    #b. FloatingPointError\n",
        "    #c. IndexError\n",
        "    #d. MemoryError\n",
        "    #e. OverflowError\n",
        "    #f. TabError\n",
        "    #g. ValueError"
      ],
      "metadata": {
        "id": "o2PMxb2Dlq1r"
      },
      "execution_count": null,
      "outputs": []
    },
    {
      "cell_type": "code",
      "source": [
        "#a. EOFError: it stand for \"End of File Error\" this error is raised when an input operation reaches the end of a file and\n",
        "\n",
        "#   more data is expected but not found It commonly occurs when reading from a file and the reading operation reaches the end of the file unexpectedly.\n",
        "\n",
        "#b. FloatingPointError: it occurs when an arithmetic operation exceeds the limits of the data type (if the result of a calculation is too large)\n",
        "\n",
        "#c. IndexError: it occurs when we try to access an element at an index that doesn't exist within the given list, tuple or string\n",
        "\n",
        "#d. MemoryError: it occurs when we run a programme that consume memory more than available in system memory can have.\n",
        "\n",
        "#e. OverflowError: it occurs when a mathematical operatiion peroform result is too large to be represented within the variable data type or variable memory\n",
        "\n",
        "#f. TabError: it occurs when indentation issue is there within the programme\n",
        "\n",
        "#g. ValueError: it occurs when a function recieves an argument which is not suitable to execute the result"
      ],
      "metadata": {
        "id": "Ihl0iFmkP049"
      },
      "execution_count": null,
      "outputs": []
    },
    {
      "cell_type": "code",
      "source": [
        "#8. Write code for the following given scenario and add try-exception block to it.\n",
        "      #a. Program to divide two numbers\n",
        "      #b. Program to convert a string to an integer\n",
        "      #c. Program to access an element in a list\n",
        "      #d. Program to handle a specific exception\n",
        "      #e. Program to handle any exception"
      ],
      "metadata": {
        "id": "dGUpuEvhltVG"
      },
      "execution_count": 1,
      "outputs": []
    },
    {
      "cell_type": "code",
      "source": [
        "#a. Program to divide two numbers\n",
        "try:\n",
        "  num = int(input(\"Enter the numerator: \"))\n",
        "  dnum = int(input(\"Enter the numerator: \"))\n",
        "  result = num / dnum\n",
        "  print(\"Result: \",result)\n",
        "\n",
        "except ZeroDivisionError:\n",
        "  print(\"Error: division by zero is not allowed\")\n",
        "\n",
        "except Exception as e:\n",
        "  print(\"Error: \", e)\n",
        "\n",
        "#b. Program to convert a string to an integer\n",
        "try:\n",
        "  str_num = input(\"Enter a number\")\n",
        "  num = int(str_num)\n",
        "  print(\"Converted Number: \", num)\n",
        "except ValueError:\n",
        "  print(\"Error: \",\"Invalid input\")\n",
        "\n",
        "except Exception as e:\n",
        "  print(\"Error: \", e)\n",
        "\n",
        "\n",
        "#c. Program to access an element in a list\n",
        "\n",
        "try:\n",
        "  my_list = [23,\"Sandeep\",[2,3,4],45.67]\n",
        "\n",
        "except IndexError:\n",
        "  print(\"Error: \",\"Provided index is out of range\")\n",
        "\n",
        "except Exception as e:\n",
        "  print(\"Error: \", e)\n",
        "\n",
        "\n",
        "#d. Program to handle a specific exception\n",
        "try:\n",
        "  file_name = input(\"Please enter the file name: \")\n",
        "  with open(file_name, 'r') as file:\n",
        "    content = file.read()\n",
        "\n",
        "  print(\"File Content: \", content)\n",
        "\n",
        "except FileNotFoundError:\n",
        "  print(\"Error: file not found\")\n",
        "except Exception as e:\n",
        "  print(\"Error Occured: \", e )\n",
        "\n",
        "\n",
        "#e. Program to handle any exception\n",
        "try:\n",
        "  num = int(input(\"Please enter number\"))\n",
        "  result = 30 / num\n",
        "  print(\"Result: \",result)\n",
        "\n",
        "except Exception as e:\n",
        "  print(\"Error Occured: \", e )"
      ],
      "metadata": {
        "id": "8687n3v96Hwq"
      },
      "execution_count": null,
      "outputs": []
    }
  ]
}