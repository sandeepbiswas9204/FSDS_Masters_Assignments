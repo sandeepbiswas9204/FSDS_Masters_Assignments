{
  "nbformat": 4,
  "nbformat_minor": 0,
  "metadata": {
    "colab": {
      "provenance": []
    },
    "kernelspec": {
      "name": "python3",
      "display_name": "Python 3"
    },
    "language_info": {
      "name": "python"
    }
  },
  "cells": [
    {
      "cell_type": "code",
      "execution_count": null,
      "metadata": {
        "id": "i9ydJ_v1KmFu"
      },
      "outputs": [],
      "source": [
        "#1. What is a lambda function in Python, and how does it differ from a regular function?"
      ]
    },
    {
      "cell_type": "code",
      "source": [
        "#ANS:\n",
        "# lambda is a function in Python that can have any number of arguments, but can only have one expression.\n",
        "\n",
        "# lambda functions are defined using the lambda keyword, followed by arguments and an expression while regular functions are defined using the def keyword, followed by the function name, arguments, and a code block.\n",
        "# it doesn't have any specific name while regular functions have a defined name that is used to call them.\n",
        "# lambda functions are best suited for simple operations whaile regular functions can have multiple statements and is better for complex tasks\n",
        "# lambda functions are used for quick, disposable function for a specific purpose while regular functions are used for more general-purpose and complex tasks,"
      ],
      "metadata": {
        "id": "XOot74c-e4BB"
      },
      "execution_count": null,
      "outputs": []
    },
    {
      "cell_type": "code",
      "source": [
        "#2. Can a lambda function in Python have multiple arguments? If yes, how can you define and use them?"
      ],
      "metadata": {
        "id": "c9kSH-mYKv-_"
      },
      "execution_count": null,
      "outputs": []
    },
    {
      "cell_type": "code",
      "source": [
        "# Yes, lambda function in Python have multiple arguments\n",
        "\n",
        "#E.g.\n",
        "\n",
        "sum = lambda x, y : x + y\n",
        "a= sum(10,30)\n",
        "print(a)\n",
        "\n",
        "# here x and y are arguments"
      ],
      "metadata": {
        "id": "hLpufUO1gj6m"
      },
      "execution_count": null,
      "outputs": []
    },
    {
      "cell_type": "code",
      "source": [
        "#3. How are lambda functions typically used in Python? Provide an example use case."
      ],
      "metadata": {
        "id": "wX6gCHHUKzSS"
      },
      "execution_count": null,
      "outputs": []
    },
    {
      "cell_type": "code",
      "source": [
        "#ANS:\n",
        "# lambda functions typically used in Python for short, Filter, map\n",
        "\n",
        "#E.g.\n",
        "# Shorting by age\n",
        "people = [(\"sandeep\", 25), (\"Ravi\", 30), (\"Manish\", 22), (\"Tara\", 28)]\n",
        "\n",
        "people_sorted = sorted(people, key = lambda a:a[1])\n",
        "print(people_sorted)\n",
        "\n",
        "\n",
        "\n",
        "# filtering a list in odd and even numbers\n",
        "\n",
        "number = [1,2,3,4,5,6,7,8,9]\n",
        "\n",
        "even_numbers = filter(lambda x : x % 2 == 0,number)\n",
        "odd_numbers = filter(lambda x : x % 2 == 1,number)\n",
        "print(list(even_numbers))\n",
        "print(list(odd_numbers))\n",
        "\n",
        "# Calculating Square Roots\n",
        "import math\n",
        "\n",
        "num = [16 , 25 , 36 , 49, 64 , 81]\n",
        "\n",
        "square_root = map(lambda x:math.sqrt(x), num)\n",
        "\n",
        "print(list(square_root))"
      ],
      "metadata": {
        "id": "9BR9SZVQho38"
      },
      "execution_count": null,
      "outputs": []
    },
    {
      "cell_type": "code",
      "source": [
        "#4. What are the advantages and limitations of lambda functions compared to regular functions in Python?"
      ],
      "metadata": {
        "id": "312iG9ETK8LF"
      },
      "execution_count": null,
      "outputs": []
    },
    {
      "cell_type": "code",
      "source": [
        "#Advantages :\n",
        "\n",
        "#1 can be defined in a single line of code\n",
        "#2 it doesn't require a full function definition\n",
        "#3 useful for short, focused operations\n",
        "#4 it can be used directly inline within other functions that expect a function argument, such as map(), filter(), and sorted()\n",
        "\n",
        "#Limitations :\n",
        "\n",
        "#1 it cannot contain multiple statements, assignments, or complex logic\n",
        "#2 as a less documentation string it makes your code less self-explanatory specially when lambda functions are used extensively\n",
        "#3 less reusable than regular functions because they lack a name or identifiers\n",
        "#4 debugging can be slightly more challenging as lambda functions don't have named identifiers\n"
      ],
      "metadata": {
        "id": "bw5xUOq1nfTc"
      },
      "execution_count": null,
      "outputs": []
    },
    {
      "cell_type": "code",
      "source": [
        "#5. Are lambda functions in Python able to access variables defined outside of their own scope? Explain with an example."
      ],
      "metadata": {
        "id": "MvjtFDABLBc8"
      },
      "execution_count": null,
      "outputs": []
    },
    {
      "cell_type": "code",
      "source": [
        "# Yes, lambda functions in Python can access variables defined outside of their own scope,\n",
        "# but only if those variables are available in the enclosing scope where the lambda function is defined.\n",
        "\n",
        "\n",
        "def func(x):\n",
        "  y = 10\n",
        "  lambda_function = lambda z:z+x+y\n",
        "  return lambda_function\n",
        "\n",
        "my_lambda = func(4)\n",
        "result = my_lambda(5)\n",
        "\n",
        "print(result)"
      ],
      "metadata": {
        "id": "Cf5Nvk-Yp4ZR"
      },
      "execution_count": null,
      "outputs": []
    },
    {
      "cell_type": "code",
      "source": [
        "#6. Write a lambda function to calculate the square of a given number."
      ],
      "metadata": {
        "id": "y5A8MlY-LFl1"
      },
      "execution_count": null,
      "outputs": []
    },
    {
      "cell_type": "code",
      "source": [
        "square = lambda x : x**2\n",
        "\n",
        "num = int(input())\n",
        "result = square(num)\n",
        "print(result)"
      ],
      "metadata": {
        "id": "0mkBYu5tqs6n"
      },
      "execution_count": null,
      "outputs": []
    },
    {
      "cell_type": "code",
      "source": [
        "#7. Create a lambda function to find the maximum value in a list of integers."
      ],
      "metadata": {
        "id": "VsIPOdRdLKe9"
      },
      "execution_count": null,
      "outputs": []
    },
    {
      "cell_type": "code",
      "source": [
        "demo_list=[5,2,34,57,85,3,22,11]\n",
        "\n",
        "max_number = lambda x: max(x)\n",
        "\n",
        "max = max_number(demo_list)\n",
        "\n",
        "print(max)"
      ],
      "metadata": {
        "id": "9WLMtw8QsDav"
      },
      "execution_count": null,
      "outputs": []
    },
    {
      "cell_type": "code",
      "source": [
        "#8. Implement a lambda function to filter out all the even numbers from a list of integers."
      ],
      "metadata": {
        "id": "RA8_Jj8yLOM0"
      },
      "execution_count": null,
      "outputs": []
    },
    {
      "cell_type": "code",
      "source": [
        "this_list = [1,2,3,4,5,6,7,8]\n",
        "even_number_list = filter(lambda x:x%2==0,this_list)\n",
        "print(list(even_number_list))"
      ],
      "metadata": {
        "id": "0wayx-RnsD5X"
      },
      "execution_count": null,
      "outputs": []
    },
    {
      "cell_type": "code",
      "source": [
        "#9. Write a lambda function to sort a list of strings in ascending order based on the length of each string."
      ],
      "metadata": {
        "id": "DbDsMg-fLR2i"
      },
      "execution_count": null,
      "outputs": []
    },
    {
      "cell_type": "code",
      "source": [
        "Employee = [\"sandeep\", \"Ravi\", \"Manish\", \"Tara\"]\n",
        "\n",
        "short = sorted(Employee, key = lambda x:len(x))\n",
        "print(short)\n",
        "\n"
      ],
      "metadata": {
        "id": "rKN_p0fesEaq"
      },
      "execution_count": null,
      "outputs": []
    },
    {
      "cell_type": "code",
      "source": [
        "#10. Create a lambda function that takes two lists as input and returns a new list containing the common elements between the two lists."
      ],
      "metadata": {
        "id": "zVpbdVNZLWMW"
      },
      "execution_count": null,
      "outputs": []
    },
    {
      "cell_type": "code",
      "source": [
        "list_1 = ['Sandeep','Ram','Shyam','Karan','Ravi']\n",
        "list_2 = ['Sita','Ram','Shyam','Kiran','Raviprakash']\n",
        "\n",
        "common = lambda list_1, list_2: filter(lambda x:x in list_1,list_2)\n",
        "\n",
        "result = common(list_1 , list_2)\n",
        "print(list(result))"
      ],
      "metadata": {
        "colab": {
          "base_uri": "https://localhost:8080/"
        },
        "id": "ZtGu6BxYRi2D",
        "outputId": "970fb19a-0f8b-4736-917e-07b272f17737"
      },
      "execution_count": null,
      "outputs": [
        {
          "output_type": "stream",
          "name": "stdout",
          "text": [
            "['Ram', 'Shyam']\n"
          ]
        }
      ]
    },
    {
      "cell_type": "code",
      "source": [
        "#11. Write a recursive function to calculate the factorial of a given positive integer."
      ],
      "metadata": {
        "id": "YXQ2rlYrLcpZ"
      },
      "execution_count": null,
      "outputs": []
    },
    {
      "cell_type": "code",
      "source": [
        "def fectorial(num):\n",
        "  if num == 0:\n",
        "    return 1\n",
        "  else:\n",
        "    return num * fectorial(num-1)\n",
        "\n",
        "number =int(input())\n",
        "result = fectorial(number)\n",
        "print(result)"
      ],
      "metadata": {
        "id": "UTucrbN5sFqm"
      },
      "execution_count": null,
      "outputs": []
    },
    {
      "cell_type": "code",
      "source": [
        "#12. Implement a recursive function to compute the nth Fibonacci number."
      ],
      "metadata": {
        "id": "I2VIFLpaLhui"
      },
      "execution_count": null,
      "outputs": []
    },
    {
      "cell_type": "code",
      "source": [
        "def Fibonacci_number(num):\n",
        "  if num<=0:\n",
        "    return 0\n",
        "  elif num == 1:\n",
        "    return 1\n",
        "  else:\n",
        "    return Fibonacci_number(num-1) + Fibonacci_number(num-2)\n",
        "\n",
        "num = int(input())\n",
        "fib_number = [Fibonacci_number(i) for i in range(num)]\n",
        "print(f\"Fibonacci number till {num}: {fib_number}\")"
      ],
      "metadata": {
        "id": "83lYIPWysGVk"
      },
      "execution_count": null,
      "outputs": []
    },
    {
      "cell_type": "code",
      "source": [
        "#13. Create a recursive function to find the sum of all the elements in a given list."
      ],
      "metadata": {
        "id": "KHF4Fu_CLi0Z"
      },
      "execution_count": null,
      "outputs": []
    },
    {
      "cell_type": "code",
      "source": [
        "def recursive_sum(list_4):\n",
        "  if not list_4:\n",
        "    return 0\n",
        "  else:\n",
        "    return list_4[0] + recursive_sum(list_4[1:])\n",
        "\n",
        "numbers = [1,2,3,4,5]\n",
        "result = recursive_sum(numbers)\n",
        "\n",
        "print(result)"
      ],
      "metadata": {
        "id": "FwKVmQ6rsHAh"
      },
      "execution_count": null,
      "outputs": []
    },
    {
      "cell_type": "code",
      "source": [
        "#14. Write a recursive function to determine whether a given string is a palindrome."
      ],
      "metadata": {
        "id": "AzWjO759LnIs"
      },
      "execution_count": null,
      "outputs": []
    },
    {
      "cell_type": "code",
      "source": [
        "def is_palindrome_string(text):\n",
        "\n",
        "  return text == text[::-1]\n",
        "\n",
        "word = input()   #\"racecar\"\n",
        "if is_palindrome_string(word):\n",
        "  print(f\"Yes, the imput text {word} is a palindrome\")\n",
        "else:\n",
        "  print(f\"No, the imput text {word} is not a palindrome\")"
      ],
      "metadata": {
        "id": "EF463tQ8sHfh"
      },
      "execution_count": null,
      "outputs": []
    },
    {
      "cell_type": "code",
      "source": [
        "#15. Implement a recursive function to find the greatest common divisor (GCD) of two positive integers."
      ],
      "metadata": {
        "id": "-gwx9m4iLqWT"
      },
      "execution_count": null,
      "outputs": []
    },
    {
      "cell_type": "code",
      "source": [
        "def gdc(num1, num2):\n",
        "  if num2 == 0:\n",
        "    return num1\n",
        "  else:\n",
        "    return gdc(num2,num1 % num2)\n",
        "\n",
        "\n",
        "n1 =int(input())\n",
        "n2 = int(input())\n",
        "\n",
        "if n1<=0 or n2<=0:\n",
        "  print(\"Please enter a positive number\")\n",
        "\n",
        "else:\n",
        "  result = gdc(n1, n2)\n",
        "  print(f\"The greatest common divisor of {n1} & {n2} is :  {result}\")"
      ],
      "metadata": {
        "id": "Pmx51-YBhBlY"
      },
      "execution_count": null,
      "outputs": []
    }
  ]
}