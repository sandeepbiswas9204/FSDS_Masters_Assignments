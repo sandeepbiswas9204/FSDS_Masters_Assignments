{
  "nbformat": 4,
  "nbformat_minor": 0,
  "metadata": {
    "colab": {
      "provenance": []
    },
    "kernelspec": {
      "name": "python3",
      "display_name": "Python 3"
    },
    "language_info": {
      "name": "python"
    }
  },
  "cells": [
    {
      "cell_type": "code",
      "execution_count": 4,
      "metadata": {
        "id": "2wAQVDw5iW8R"
      },
      "outputs": [],
      "source": [
        "#1 What does an empty dictionary's code look like?"
      ]
    },
    {
      "cell_type": "code",
      "source": [
        "# empty dictionary's code look like {}\n",
        "\n",
        "my_dict={}"
      ],
      "metadata": {
        "id": "qBemyOUikSO_"
      },
      "execution_count": 6,
      "outputs": []
    },
    {
      "cell_type": "code",
      "source": [
        "#2 What is the value of a dictionary value with the key 'foo' and the value 42?"
      ],
      "metadata": {
        "id": "fS-l_OzEkXqs"
      },
      "execution_count": 7,
      "outputs": []
    },
    {
      "cell_type": "code",
      "source": [
        "# value is 42\n",
        "my_dict={'foo':42}\n",
        "\n",
        "value_of_foo=my_dict['foo']\n",
        "print(value_of_foo)\n"
      ],
      "metadata": {
        "id": "Zd6XjyOXk-O-"
      },
      "execution_count": 8,
      "outputs": []
    },
    {
      "cell_type": "code",
      "source": [
        "#3 What is the most significant distinction between a dictionary and a list?"
      ],
      "metadata": {
        "id": "mcrj70NFlCUv"
      },
      "execution_count": 11,
      "outputs": []
    },
    {
      "cell_type": "code",
      "source": [
        "#1  A list is an ordered collection of elements while a dictionary is an unordered collection of key-value pairs\n",
        "#2  Lists use indexing starting from 0. You can access elements in a list using their index position while dictionaries store key-value pairs\n",
        "#   where each key is unique and maps to a specific value"
      ],
      "metadata": {
        "id": "vRTnoafRlR3R"
      },
      "execution_count": 12,
      "outputs": []
    },
    {
      "cell_type": "code",
      "source": [
        "#4 What happens if you try to access spam['foo'] if spam is {'bar': 100}?"
      ],
      "metadata": {
        "id": "lGR-FxoxO16H"
      },
      "execution_count": 13,
      "outputs": []
    },
    {
      "cell_type": "code",
      "source": [
        "# it will return KeyError"
      ],
      "metadata": {
        "id": "k0Rcs4qnPAj5"
      },
      "execution_count": 15,
      "outputs": []
    },
    {
      "cell_type": "code",
      "source": [
        "#5 If a dictionary is stored in spam, what is the difference between the expressions 'cat' in spam and 'cat' in spam.keys()?"
      ],
      "metadata": {
        "id": "ZAAE5o6SP2H-"
      },
      "execution_count": 16,
      "outputs": []
    },
    {
      "cell_type": "code",
      "source": [
        "# 'cat' in spam return bool value i.e. True while 'cat' in spam.key() return AttributeError\n"
      ],
      "metadata": {
        "id": "jqJALFtwQfwq"
      },
      "execution_count": 19,
      "outputs": []
    },
    {
      "cell_type": "code",
      "source": [
        "#6  If a dictionary is stored in spam, what is the difference between the expressions 'cat' in spam and 'cat' in spam.values()?"
      ],
      "metadata": {
        "id": "d5k0jJ5YQutM"
      },
      "execution_count": 20,
      "outputs": []
    },
    {
      "cell_type": "code",
      "source": [
        "# 'cat' in spam return boo value i.e. True (it finds the Key within the dictionary spam) while 'cat' in spam.values() return false value (it finds value within the dictionary)"
      ],
      "metadata": {
        "id": "T7PJKfdxRULN"
      },
      "execution_count": 25,
      "outputs": []
    },
    {
      "cell_type": "code",
      "source": [
        "#7 What is a shortcut for the following code?\n",
        "\n",
        "# if 'color' not in spam:\n",
        "# spam['color'] = 'black'\n",
        "\n",
        "spam={'cat':10,'color':'red'}\n",
        "spam.setdefault('color','black')\n"
      ],
      "metadata": {
        "id": "hmYeVHslRU61"
      },
      "execution_count": 26,
      "outputs": []
    },
    {
      "cell_type": "code",
      "source": [
        "#8  How do you \"pretty print\" dictionary values using which module and function?"
      ],
      "metadata": {
        "id": "L1ARvlYwSh5r"
      },
      "execution_count": 33,
      "outputs": []
    },
    {
      "cell_type": "code",
      "source": [
        "# it provides a way to print data structures like dictionaries, lists and tuples, in a visually formatted and more readable manner\n",
        "\n",
        "my_dic= {'name': 'Sandeep', 'age': 30, 'city': 'Dhanbad'}\n",
        "\n",
        "import pprint\n",
        "pprint.pprint(my_dic)"
      ],
      "metadata": {
        "id": "h9Pu5oJeS67M"
      },
      "execution_count": null,
      "outputs": []
    }
  ]
}