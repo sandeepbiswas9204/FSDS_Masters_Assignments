{
  "nbformat": 4,
  "nbformat_minor": 0,
  "metadata": {
    "colab": {
      "provenance": []
    },
    "kernelspec": {
      "name": "python3",
      "display_name": "Python 3"
    },
    "language_info": {
      "name": "python"
    }
  },
  "cells": [
    {
      "cell_type": "code",
      "execution_count": 1,
      "metadata": {
        "id": "I6UmixcZ7cbm"
      },
      "outputs": [],
      "source": [
        "#1 What exactly is []"
      ]
    },
    {
      "cell_type": "code",
      "source": [
        "#ANS: [] is an empty list"
      ],
      "metadata": {
        "id": "iOE11vu77xIF"
      },
      "execution_count": 2,
      "outputs": []
    },
    {
      "cell_type": "code",
      "source": [
        "#2  In a list of values stored in a variable called spam, how would you assign the value 'hello' as the third value? (Assume [2, 4, 6, 8, 10] are in spam.)"
      ],
      "metadata": {
        "id": "6pr7Bm2I71fG"
      },
      "execution_count": 3,
      "outputs": []
    },
    {
      "cell_type": "code",
      "source": [
        "spam=[2,4,6,8,10]\n"
      ],
      "metadata": {
        "id": "9nysjhFi8Din"
      },
      "execution_count": 9,
      "outputs": []
    },
    {
      "cell_type": "code",
      "source": [
        "# by assigning the value by its index number\n",
        "spam[2]=\"hello\"\n",
        "spam"
      ],
      "metadata": {
        "id": "lDdN8iQ08GaB"
      },
      "execution_count": null,
      "outputs": []
    },
    {
      "cell_type": "code",
      "source": [
        "#3  What is the value of spam[int(int('3' * 2) / 11)]?"
      ],
      "metadata": {
        "id": "ZFWxJ16P8NTC"
      },
      "execution_count": 11,
      "outputs": []
    },
    {
      "cell_type": "code",
      "source": [
        "# it return d but i am confused it should be return 'a' because 'a' is available in 0 index and result of int(6/11) is also 0\n",
        "\n",
        "spam=['a', 'b', 'c', 'd']\n",
        "spam[int(int('3' * 2) / 11)]"
      ],
      "metadata": {
        "id": "HrvqeFKU9Feu"
      },
      "execution_count": null,
      "outputs": []
    },
    {
      "cell_type": "code",
      "source": [
        "#4  What is the value of spam[-1]?"
      ],
      "metadata": {
        "id": "8Omq9agJ9RSK"
      },
      "execution_count": 18,
      "outputs": []
    },
    {
      "cell_type": "code",
      "source": [
        "#  it return 'd'\n",
        "spam=['a', 'b', 'c', 'd']\n",
        "spam[-1]"
      ],
      "metadata": {
        "id": "VT8l4akI9W90"
      },
      "execution_count": null,
      "outputs": []
    },
    {
      "cell_type": "code",
      "source": [
        "#5  What is the value of spam[:2]?"
      ],
      "metadata": {
        "id": "8Xl1pFJr926E"
      },
      "execution_count": 21,
      "outputs": []
    },
    {
      "cell_type": "code",
      "source": [
        "# it return ['a', 'b']\n",
        "spam=['a', 'b', 'c', 'd']\n",
        "spam[:2]"
      ],
      "metadata": {
        "id": "CbuFVV_a-_iN"
      },
      "execution_count": null,
      "outputs": []
    },
    {
      "cell_type": "code",
      "source": [
        "#6  What is the value of bacon.index('cat')?"
      ],
      "metadata": {
        "id": "b0p-cDwz_GYg"
      },
      "execution_count": 24,
      "outputs": []
    },
    {
      "cell_type": "code",
      "source": [
        "# it returns index 1\n",
        "bacon=[3.14, 'cat', 11, 'cat', True]\n",
        "bacon.index('cat')"
      ],
      "metadata": {
        "id": "v9DzDFyQ_azg"
      },
      "execution_count": null,
      "outputs": []
    },
    {
      "cell_type": "code",
      "source": [
        "#7  How does bacon.append(99) change the look of the list value in bacon?"
      ],
      "metadata": {
        "id": "VrGbxw8v_pNV"
      },
      "execution_count": 30,
      "outputs": []
    },
    {
      "cell_type": "code",
      "source": [
        "# its added a new element within the list 'bacon' just after the last index\n",
        "bacon=[3.14, 'cat', 11, 'cat', True]\n",
        "bacon.append(99)\n",
        "bacon"
      ],
      "metadata": {
        "id": "ZqSeLBxC_3PC"
      },
      "execution_count": null,
      "outputs": []
    },
    {
      "cell_type": "code",
      "source": [
        "#8 How does bacon.remove('cat') change the look of the list in bacon?"
      ],
      "metadata": {
        "id": "gD6TU185_-8x"
      },
      "execution_count": 32,
      "outputs": []
    },
    {
      "cell_type": "code",
      "source": [
        "# it removes the first matched element from the list 'bacon'\n",
        "\n",
        "bacon=[3.14, 'cat', 11, 'cat', True]\n",
        "bacon.remove('cat')\n",
        "bacon"
      ],
      "metadata": {
        "id": "FX_uU_7cAWzd"
      },
      "execution_count": null,
      "outputs": []
    },
    {
      "cell_type": "code",
      "source": [
        "#9  What are the list concatenation and list replication operators?"
      ],
      "metadata": {
        "id": "bvFPJWn7Agwf"
      },
      "execution_count": 35,
      "outputs": []
    },
    {
      "cell_type": "code",
      "source": [
        "# + is the concatenation and * is the replication operators in list\n",
        "\n",
        "a=['c', 'd', 'e']\n",
        "b=['f', 'g', 'h']\n",
        "\n",
        "concatenation=a+b\n",
        "replication=a*2\n",
        "\n",
        "print(concatenation)\n",
        "print(replication)"
      ],
      "metadata": {
        "id": "Tk1EsYYaAxWo"
      },
      "execution_count": null,
      "outputs": []
    },
    {
      "cell_type": "code",
      "source": [
        "#10  What is difference between the list methods append() and insert()?"
      ],
      "metadata": {
        "id": "BPDXugBxBZ-f"
      },
      "execution_count": 37,
      "outputs": []
    },
    {
      "cell_type": "code",
      "source": [
        "# append is used to add the element just after the last index within a list but insert is used to add the element at a specific endex within a list\n",
        "\n",
        "bacon=[3.14, 'cat', 11, 'cat', True]\n",
        "print(bacon, \" :-initial stage of list\")\n",
        "bacon.append(99)\n",
        "print(bacon,\" :-after appending an element 99\")\n",
        "\n",
        "bacon.insert(2,'sandeep')\n",
        "print(bacon,\"  :- after inserting an element at the second index\")"
      ],
      "metadata": {
        "id": "Z01wdDntBgHp"
      },
      "execution_count": null,
      "outputs": []
    },
    {
      "cell_type": "code",
      "source": [
        "#11  What are the two methods for removing items from a list?"
      ],
      "metadata": {
        "id": "RiejfJW2B0o-"
      },
      "execution_count": 46,
      "outputs": []
    },
    {
      "cell_type": "code",
      "source": [
        "# remove and pop is the two methods for removing items from a list\n",
        "bacon=[3.14, 'cat', 11, 'cat', True]\n",
        "\n",
        "bacon.remove(11)\n",
        "print(bacon,\"   :- removing the element 11 from list 'bacon\")\n",
        "\n",
        "bacon=[3.14, 'cat', 11, 'cat', True]\n",
        "\n",
        "bacon.pop(1)\n",
        "print(bacon,\"  :- removing the element by its index number\")\n"
      ],
      "metadata": {
        "id": "1sBUZnrrB8eW"
      },
      "execution_count": null,
      "outputs": []
    },
    {
      "cell_type": "code",
      "source": [
        "#12  Describe how list values and string values are identical."
      ],
      "metadata": {
        "id": "RlZWOu83B9uK"
      },
      "execution_count": 51,
      "outputs": []
    },
    {
      "cell_type": "code",
      "source": [
        "  #1 both are sequential data both maintain specific order for their elements each element has a uniwue index associated with it\n",
        "  #2 elements of the both can be accessed using indexing which starts from 0\n",
        "  #3 both supports slicing which allows us to extract a subset of elements [start:stop:step]\n",
        "  #4 bothe can be iterated by using loops\n",
        "  #5 you can find length of both by using len()\n",
        "  #6 both support concatenation  and replication which can be perform by using + and * respectively\n",
        "\n",
        "\n",
        "  a=['c', 'd', 'e']\n",
        "b=['f', 'g', 'h']\n",
        "x=\"Sandeep\"\n",
        "y=\" Kumar Biswas\"\n",
        "print(a[1],\"  :- List slicing operation\")\n",
        "print(x[3],\"  :- string slicing operation\")\n",
        "\n",
        "for i in a:\n",
        "  print(i)\n",
        "\n",
        "for j in x:\n",
        "  print(j)\n",
        "\n",
        "print(len(a))\n",
        "print(len(x))\n",
        "\n",
        "list_concatenation=a+b\n",
        "print(concatenation)\n",
        "\n",
        "string_concatenation=x+y\n",
        "print(string_concatenation)\n",
        "\n",
        "print(b*2)\n",
        "print(x*2)"
      ],
      "metadata": {
        "id": "s-R4X7j9EHxO"
      },
      "execution_count": 52,
      "outputs": []
    },
    {
      "cell_type": "code",
      "source": [
        "#13   What's the difference between tuples and lists?"
      ],
      "metadata": {
        "id": "6RUwFHdBHtAc"
      },
      "execution_count": 67,
      "outputs": []
    },
    {
      "cell_type": "code",
      "source": [
        "#1 Lists are mutable means you can perform change add and remove kind of operations with its elements while tuples are immutable means once you creats a tuple you can not modify its elements\n",
        "#2 Lists requires more memory and have slower performance compared to tuples because of its mutability while tuples requires less memory and have better performace because of its immutability property.\n",
        "#3 Lists are used for dynamic collect of elements while tuples are used for fixed collection of elements\n",
        "\n",
        "my_list=[3.14, 'cat', 11, 'cat', True]\n",
        "my_tuple= (3.14, 'cat', 11, 'cat', True)"
      ],
      "metadata": {
        "id": "txRBOGzKH-jE"
      },
      "execution_count": 78,
      "outputs": []
    },
    {
      "cell_type": "code",
      "source": [
        "#14  How do you type a tuple value that only contains the integer 42?"
      ],
      "metadata": {
        "id": "Br_SaDWsIqnr"
      },
      "execution_count": 68,
      "outputs": []
    },
    {
      "cell_type": "code",
      "source": [
        "my_tuple=(42,)\n",
        "print(type(my_tuple))\n",
        "my_tuple"
      ],
      "metadata": {
        "colab": {
          "base_uri": "https://localhost:8080/"
        },
        "id": "7zukCLz_KDq1",
        "outputId": "78bbdd41-436c-4ffe-ab03-2efa2d9e6e6c"
      },
      "execution_count": 82,
      "outputs": [
        {
          "output_type": "stream",
          "name": "stdout",
          "text": [
            "<class 'tuple'>\n"
          ]
        },
        {
          "output_type": "execute_result",
          "data": {
            "text/plain": [
              "(42,)"
            ]
          },
          "metadata": {},
          "execution_count": 82
        }
      ]
    },
    {
      "cell_type": "code",
      "source": [
        "#15  How do you get a list value's tuple form? How do you get a tuple value's list form?"
      ],
      "metadata": {
        "id": "Vuh-VV2VKGli"
      },
      "execution_count": 70,
      "outputs": []
    },
    {
      "cell_type": "code",
      "source": [
        "# by typecasting\n",
        "\n",
        "my_tuple= (4.20, 'dog', 22, 'dog', False)\n",
        "my_list=list(my_tuple)\n",
        "print(my_list)\n",
        "\n",
        "my_list=[3.14, 'cat', 11, 'cat', True]\n",
        "my_tuple=tuple(my_list)\n",
        "print(my_tuple)\n"
      ],
      "metadata": {
        "id": "f-G8JJI3KMtV"
      },
      "execution_count": null,
      "outputs": []
    },
    {
      "cell_type": "code",
      "source": [
        "#16 Variables that \"contain\" list values are not necessarily lists themselves. Instead, what do they contain?"
      ],
      "metadata": {
        "id": "HglOKQJMKNRa"
      },
      "execution_count": 72,
      "outputs": []
    },
    {
      "cell_type": "code",
      "source": [
        "#Yes, when we asign a list to a variable it doesn't store the actual list object to the variable rather holds the memory address where the list is stored.\n",
        "\n",
        "my_list=[3.14, 'cat', 11, 'cat', True]\n",
        "\n",
        "id(my_list)"
      ],
      "metadata": {
        "colab": {
          "base_uri": "https://localhost:8080/"
        },
        "id": "JunhW67CKQxz",
        "outputId": "500a0b21-1b3d-406b-8f99-51d0dbc6531f"
      },
      "execution_count": 91,
      "outputs": [
        {
          "output_type": "execute_result",
          "data": {
            "text/plain": [
              "132302916417216"
            ]
          },
          "metadata": {},
          "execution_count": 91
        }
      ]
    },
    {
      "cell_type": "code",
      "source": [
        "#17 How do you distinguish between copy.copy() and copy.deepcopy()?"
      ],
      "metadata": {
        "id": "Vq8kxJTAKUMk"
      },
      "execution_count": 75,
      "outputs": []
    },
    {
      "cell_type": "code",
      "source": [
        "# its method to creat copies of object especiall while dealing with the nested data structure like list of list, dict of dict\n",
        "# copy.copy creates a new object it copies references of the nested objects. changes made to nested objects in the copy will be reflected in the original object.\n",
        "\n",
        "#copy.deepcopy creates a completely independent new object with all elements it means changes made to nested objects in the deep copy will not affect the original object\n",
        "\n",
        "import copy\n",
        "p_list=[\"sandeep\",[2.14,12],True,25]\n",
        "cc_list=copy.copy(p_list)\n",
        "cc_list[1][0]=24\n",
        "print(p_list)\n",
        "print(cc_list)\n",
        "\n",
        "\n",
        "p_list=[\"sandeep\",[2.14,12],True,25]\n",
        "dc_list=copy.deepcopy(p_list)\n",
        "dc_list[1][0]=24\n",
        "print(p_list)\n",
        "print(dc_list)"
      ],
      "metadata": {
        "colab": {
          "base_uri": "https://localhost:8080/"
        },
        "id": "AIC-mnwYKV2x",
        "outputId": "1968367a-beda-491a-dfd2-5538beac2176"
      },
      "execution_count": 98,
      "outputs": [
        {
          "output_type": "stream",
          "name": "stdout",
          "text": [
            "['sandeep', [24, 12], True, 25]\n",
            "['sandeep', [24, 12], True, 25]\n",
            "['sandeep', [2.14, 12], True, 25]\n",
            "['sandeep', [24, 12], True, 25]\n"
          ]
        }
      ]
    },
    {
      "cell_type": "code",
      "source": [],
      "metadata": {
        "id": "dvyqDHb_eYht"
      },
      "execution_count": null,
      "outputs": []
    }
  ]
}