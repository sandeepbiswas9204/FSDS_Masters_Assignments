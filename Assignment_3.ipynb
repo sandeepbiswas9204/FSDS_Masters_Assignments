{
  "nbformat": 4,
  "nbformat_minor": 0,
  "metadata": {
    "colab": {
      "provenance": [],
      "gpuType": "T4"
    },
    "kernelspec": {
      "name": "python3",
      "display_name": "Python 3"
    },
    "language_info": {
      "name": "python"
    },
    "accelerator": "GPU"
  },
  "cells": [
    {
      "cell_type": "code",
      "execution_count": 1,
      "metadata": {
        "id": "ujomGTMepKTF"
      },
      "outputs": [],
      "source": [
        "#1 Why are functions advantageous to have in your programs?"
      ]
    },
    {
      "cell_type": "code",
      "source": [
        "#ANS:\n",
        "\n",
        "    #1   Reusability -  It allows us to write a block of code once and reuse it multiple times inside program. Instead of duplicating the code\n",
        "    #                   we can call the function whenever we need it makes code easy to maintain.\n",
        "\n",
        "    #2   Modularity -  it enable us to break break our program into smaller parts and manageable modules which makes it easier to understand, test, and debug.\n",
        "\n",
        "    #3   Readability - it makes our code more readable\n",
        "    #4   Maintainability - when bug found or need to make changes in code it allows to find the bug and make changes in a very easy and identitical way.\n",
        "    #5   Testing  -    easy to test the code, fuction can be tested individually, it makes easy to identify bugs\n",
        "    #6   Collaboration - different team members can identify functions belongs to him and multiple teams can make changes or debug in the program at the same time instead of walking through the whole code.\n",
        "    #7 - Encapsulation - it allow you to encapsulate data and logic and reduce the risk of uncertain side effects on other parts of the program."
      ],
      "metadata": {
        "id": "8bD-EfAcpzZs"
      },
      "execution_count": 3,
      "outputs": []
    },
    {
      "cell_type": "code",
      "source": [
        "#2  When does the code in a function run: when it's specified or when it's called?"
      ],
      "metadata": {
        "id": "CAl5z9IuqkFt"
      },
      "execution_count": 4,
      "outputs": []
    },
    {
      "cell_type": "code",
      "source": [
        "#ANS:\n",
        "#    the code inside a function runs when the function is called, the function can be called when we need to use that block of code written in a function inside a programme.\n",
        "#Example:\n",
        "\n",
        "def sandeep():\n",
        "  print(\"My name is sandeep\")\n",
        "\n",
        "\n",
        "sandeep()  # Calling the funcion"
      ],
      "metadata": {
        "id": "Ruoc5oZdzDMo"
      },
      "execution_count": null,
      "outputs": []
    },
    {
      "cell_type": "code",
      "source": [
        "#3  What statement creates a function?"
      ],
      "metadata": {
        "colab": {
          "base_uri": "https://localhost:8080/"
        },
        "id": "tddWTFgV0DLo",
        "outputId": "3d1794d1-5407-4f5a-f57c-db958606e7bc"
      },
      "execution_count": 6,
      "outputs": [
        {
          "output_type": "stream",
          "name": "stdout",
          "text": [
            "My name is sandeep\n"
          ]
        }
      ]
    },
    {
      "cell_type": "code",
      "source": [
        "#ANS:\n",
        "\n",
        "#def statement creates a funcgtion\n",
        "\n",
        "#Example:\n",
        "\n",
        "def add_numbers(a,b):\n",
        "  ans =a+b\n",
        "  return ans\n",
        "\n",
        "\n",
        "add_numbers(5,6)  # Calling the funcion"
      ],
      "metadata": {
        "id": "juD1UOSP0FDg"
      },
      "execution_count": 10,
      "outputs": []
    },
    {
      "cell_type": "code",
      "source": [
        "#4  What is the difference between a function and a function call?"
      ],
      "metadata": {
        "id": "8exaUnW91FlR"
      },
      "execution_count": 12,
      "outputs": []
    },
    {
      "cell_type": "code",
      "source": [
        "#ANS:\n",
        "#     functons are bolcks of codes that performs specific task or group of tasks it can be called and executed whenever we required it to call\n",
        "#     when we call a function it jumps to block of codes which we have defined as an function and start executiin itself with given parameters and returns us the result.\n",
        "\n",
        "#Example:\n",
        "\n",
        "def substract(a,b):\n",
        "  if a>b:\n",
        "    return a-b\n",
        "  else:\n",
        "    print(\"Substraction could not be done as the condiont is not met a should be always greater than b\")\n",
        "\n",
        "\n",
        "substract(2,4) # calling the fucntion"
      ],
      "metadata": {
        "id": "XhS2m3oJ1QWb"
      },
      "execution_count": null,
      "outputs": []
    },
    {
      "cell_type": "code",
      "source": [
        "#5 How many global scopes are there in a Python program? How many local scopes?"
      ],
      "metadata": {
        "id": "I7kHa_cK3Yqo"
      },
      "execution_count": 18,
      "outputs": []
    },
    {
      "cell_type": "code",
      "source": [
        "#  There is only one Global scope it can contains variables, functions and classes defined at the global level accessible from any part of the program\n",
        "#  any variable defined outside of functions or classes becomes a part of the global scope.\n",
        "\n",
        "#  the number of local scope depends on the number of functions called in a program, every time when a function is called a new local scope is called for that functio#n\n",
        "\n",
        "#Example:\n",
        "\n",
        "global_variable=40\n",
        "\n",
        "def local_function():\n",
        "  local_variable=20\n",
        "  print(f\"Local variable is: {local_variable}\")\n",
        "  print(f\"Global variable is: {global_variable}\")\n",
        "\n",
        "#print(f\"Global variable is: {global_variable}\")\n",
        "\n",
        "\n",
        "# Local scopes are created when a function is called and destroyed after the execution completed"
      ],
      "metadata": {
        "id": "I6_OUD7F3b7P"
      },
      "execution_count": 5,
      "outputs": []
    },
    {
      "cell_type": "code",
      "source": [
        "#6  What happens to variables in a local scope when the function call returns?"
      ],
      "metadata": {
        "id": "0in1GFfg-Usb"
      },
      "execution_count": 7,
      "outputs": []
    },
    {
      "cell_type": "code",
      "source": [
        "# when the function calls returns the local scop of that function will be distroyed or all the variable defined in that local scope are deallocated.\n",
        "\n",
        "#Example:\n",
        "def add_numbers():\n",
        "  a=10\n",
        "  b=20\n",
        "  return a+b\n",
        "\n",
        "result = add_numbers()\n",
        "print(result) # the local scope of add_numbers is destroyed, variable x and y are deallocated it is no longer exist ana cannot be accessed outside of this function\n"
      ],
      "metadata": {
        "id": "5luI26rC-YvJ"
      },
      "execution_count": null,
      "outputs": []
    },
    {
      "cell_type": "code",
      "source": [
        "#7  What is the concept of a return value? Is it possible to have a return value in an expression?"
      ],
      "metadata": {
        "id": "htCV1hD3PQ_V"
      },
      "execution_count": 14,
      "outputs": []
    },
    {
      "cell_type": "code",
      "source": [
        "# a value that a fumction send back to the caller after its execution is called return, when a function called it may perform some operation or computation and then return a result which can be used by caller further\n",
        "\n",
        "def multiply(a,b):\n",
        "  ans= a*b\n",
        "  return ans\n",
        "\n",
        "result1 = multiply(9,4)\n",
        "print(result1)\n",
        "\n",
        "# Yes, it is possible to have a return value in an expression in Python. we can use a function call as part of an expression, and the function can return a value that is directly used in that expression.\n",
        "\n",
        "def multiply(a,b):\n",
        "\n",
        "  ans =a*b\n",
        "  return  ans\n",
        "\n",
        "result1 = multiply(9,4)+2  # here function multiply has been called  with argument 9 and 4 which returns their multiplication itself and the result is being used as part of the expression\n",
        "print(result1)"
      ],
      "metadata": {
        "id": "bz3qnDosPT9o"
      },
      "execution_count": null,
      "outputs": []
    },
    {
      "cell_type": "code",
      "source": [
        "#8  If a function does not have a return statement, what is the return value of a call to that function?"
      ],
      "metadata": {
        "id": "8aVmbvAzd9wK"
      },
      "execution_count": 13,
      "outputs": []
    },
    {
      "cell_type": "code",
      "source": [
        "#  it will return variable \"none\" which denotes absence of value\n",
        "\n",
        "#Example:\n",
        "\n",
        "def add_num(a,b):\n",
        "  result= a+b\n",
        "\n",
        "\n",
        "add1=add_num(2,3)\n",
        "print(add1)\n"
      ],
      "metadata": {
        "id": "zxGcQFvkfzuJ"
      },
      "execution_count": null,
      "outputs": []
    },
    {
      "cell_type": "code",
      "source": [
        "#9  How do you make a function variable refer to the global variable?"
      ],
      "metadata": {
        "id": "8J2Fmwflhcis"
      },
      "execution_count": 18,
      "outputs": []
    },
    {
      "cell_type": "code",
      "source": [
        "#  We can use the global keyword inside the function. The global keyword allows us to indicate that a variable inside the function should reference the global variable with the same name\n",
        "\n",
        "global_var=40\n",
        "\n",
        "def change_global_variable():\n",
        "  global global_var\n",
        "  global_var=50\n",
        "\n",
        "print(f\"Initial vallue of gloval_var:{global_var}\")\n",
        "change_global_variable()\n",
        "print(f\"after changing the global_variable: {global_var}\")"
      ],
      "metadata": {
        "id": "dZE4B2TFh0pP"
      },
      "execution_count": null,
      "outputs": []
    },
    {
      "cell_type": "code",
      "source": [
        "#10 What is the data type of None?"
      ],
      "metadata": {
        "id": "gMszzAmzjjod"
      },
      "execution_count": 20,
      "outputs": []
    },
    {
      "cell_type": "code",
      "source": [
        "# NoneType\n",
        "def add_num(a,b):\n",
        "  result= a+b\n",
        "\n",
        "\n",
        "add1=add_num(2,3)\n",
        "print(type(add1))\n"
      ],
      "metadata": {
        "colab": {
          "base_uri": "https://localhost:8080/"
        },
        "id": "-YgMSKmijtgq",
        "outputId": "327c4073-822b-469b-abdd-629044685d0f"
      },
      "execution_count": 25,
      "outputs": [
        {
          "output_type": "stream",
          "name": "stdout",
          "text": [
            "<class 'NoneType'>\n"
          ]
        }
      ]
    },
    {
      "cell_type": "code",
      "source": [
        "#11  What does the sentence import areallyourpetsnamederic do?"
      ],
      "metadata": {
        "id": "q22B7UxmjvRR"
      },
      "execution_count": 27,
      "outputs": []
    },
    {
      "cell_type": "code",
      "source": [
        "# it generates an ModuleNotFoundError\n",
        "\n",
        "import areallyourpetsnamederic"
      ],
      "metadata": {
        "id": "byrTm7LijyJP"
      },
      "execution_count": null,
      "outputs": []
    },
    {
      "cell_type": "code",
      "source": [
        "#12 If you had a bacon() feature in a spam module, what would you call it after importing spam?"
      ],
      "metadata": {
        "id": "3hsUsIo1ksPo"
      },
      "execution_count": 28,
      "outputs": []
    },
    {
      "cell_type": "code",
      "source": [
        "spam.bacon()"
      ],
      "metadata": {
        "id": "Dteil0j7lEXC"
      },
      "execution_count": null,
      "outputs": []
    },
    {
      "cell_type": "code",
      "source": [
        "#13   What can you do to save a programme from crashing if it encounters an error?"
      ],
      "metadata": {
        "id": "EpGYFJ1ylUMG"
      },
      "execution_count": 30,
      "outputs": []
    },
    {
      "cell_type": "code",
      "source": [
        "# We will use exception handling try and except\n",
        "try:\n",
        "  a=int(input(\"please enter number: \"))\n",
        "  b=int(input(\"please enter number: \"))\n",
        "  result = a/b\n",
        "\n",
        "except ValueError:\n",
        "  print(\"Invalid input. Please enter valid numbers.\")\n",
        "\n",
        "except ZeroDivisionError:\n",
        "  print(\"Cannot divide by zero.\")"
      ],
      "metadata": {
        "id": "s1DrlAywlykG"
      },
      "execution_count": null,
      "outputs": []
    },
    {
      "cell_type": "code",
      "source": [
        "#14  . What is the purpose of the try clause? What is the purpose of the except clause?"
      ],
      "metadata": {
        "id": "8BC5liRRmdgV"
      },
      "execution_count": 65,
      "outputs": []
    },
    {
      "cell_type": "code",
      "source": [
        "#   try clause helps us to implement exception handling, which allows our program to handle unexpected errors or exceptional situations without crashing.\n",
        "#   When an exception is raised during the execution of the try block, the control flow jumps to the matching except block and allow us to take specific\n",
        "#   actions to handle the exception by Displaying informative error messages for different types of errors which makes our program more user-friendly."
      ],
      "metadata": {
        "id": "mUltgdK1mqgp"
      },
      "execution_count": null,
      "outputs": []
    }
  ]
}