{
  "nbformat": 4,
  "nbformat_minor": 0,
  "metadata": {
    "colab": {
      "provenance": []
    },
    "kernelspec": {
      "name": "python3",
      "display_name": "Python 3"
    },
    "language_info": {
      "name": "python"
    }
  },
  "cells": [
    {
      "cell_type": "code",
      "execution_count": 1,
      "metadata": {
        "id": "rFRXip8DQn4I"
      },
      "outputs": [],
      "source": [
        "#1.What are the two values of the Boolean data type? How do you write them?"
      ]
    },
    {
      "cell_type": "code",
      "source": [
        "#ANS:\n",
        "# trun and false are the two values of the boolean daya type.\n",
        "x= True\n",
        "y= False\n",
        "\n",
        "print(x)\n",
        "print(y)"
      ],
      "metadata": {
        "id": "ReW1EYkCSvSc"
      },
      "execution_count": null,
      "outputs": []
    },
    {
      "cell_type": "code",
      "source": [
        "#2. What are the three different types of Boolean operators?"
      ],
      "metadata": {
        "id": "uwii5H50S23M"
      },
      "execution_count": 12,
      "outputs": []
    },
    {
      "cell_type": "code",
      "source": [
        "#ANS:\n",
        "\n",
        "#1 AND\n",
        "#2 OR\n",
        "#3 NOT\n",
        "a,b=True, False\n",
        "\n",
        "c= a and b\n",
        "d=a or b\n",
        "e= not b\n",
        "\n",
        "print(c) # False\n",
        "print(d) # True\n",
        "print(e) # True\n"
      ],
      "metadata": {
        "id": "5LrjWyZRZih8"
      },
      "execution_count": null,
      "outputs": []
    },
    {
      "cell_type": "code",
      "source": [
        "#3. Make a list of each Boolean operator's truth tables (i.e. every possible combination of Boolean values for the operator and what it evaluate )."
      ],
      "metadata": {
        "id": "qf6k_w6KaQFs"
      },
      "execution_count": 18,
      "outputs": []
    },
    {
      "cell_type": "code",
      "source": [
        "#ANS:\n",
        "\n",
        "#AND:\n",
        "  # True and True result to True\n",
        "  # True and False result to False\n",
        "  # False and True result to False\n",
        "  # False and False result to False\n",
        "\n",
        "#OR:\n",
        "  # True or True result to True\n",
        "  # True or False result to True\n",
        "  # False or True result to True\n",
        "  # False or False result to False\n",
        "\n",
        "#NOT:\n",
        "  # not True result to False\n",
        "  # not False result to True"
      ],
      "metadata": {
        "id": "MuqlzmJabNxP"
      },
      "execution_count": 19,
      "outputs": []
    },
    {
      "cell_type": "code",
      "source": [
        "#4. What are the values of the following expressions?\n",
        "#     (5 > 4) and (3 == 5)\n",
        "#     not (5 > 4)\n",
        "#     (5 > 4) or (3 == 5)\n",
        "#     not ((5 > 4) or (3 == 5))\n",
        "#     (True and True) and (True == False)\n",
        "#     (not False) or (not True)\n"
      ],
      "metadata": {
        "id": "HejkHy8Vb9Ik"
      },
      "execution_count": 20,
      "outputs": []
    },
    {
      "cell_type": "code",
      "source": [
        "#ANS:\n",
        "\n",
        "(5 > 4) and (3 == 5)                # False\n",
        "not (5 > 4)                         # Fasle\n",
        "(5 > 4) or (3 == 5)                 # True\n",
        "not ((5 > 4) or (3 == 5))           # False\n",
        "(True and True) and (True == False) # False\n",
        "(not False) or (not True)           # True\n",
        "\n"
      ],
      "metadata": {
        "id": "sa3YnGI7cLYu"
      },
      "execution_count": null,
      "outputs": []
    },
    {
      "cell_type": "code",
      "source": [
        "#5 What are the six comparison operators?"
      ],
      "metadata": {
        "id": "H3hO5RMbcOss"
      },
      "execution_count": 32,
      "outputs": []
    },
    {
      "cell_type": "code",
      "source": [
        "#1  equal to (==)\n",
        "#2  not equal to (!=)\n",
        "#3  greter than (>)\n",
        "#4  less than (<)\n",
        "#5  greater than equal to (>=)\n",
        "#6  less than equal to (<=)"
      ],
      "metadata": {
        "id": "ASfaslOuddPV"
      },
      "execution_count": 33,
      "outputs": []
    },
    {
      "cell_type": "code",
      "source": [
        "#6  How do you tell the difference between the equal to and assignment operators?Describe a condition and when you would use one."
      ],
      "metadata": {
        "id": "XXoS0SVXfaOl"
      },
      "execution_count": 34,
      "outputs": []
    },
    {
      "cell_type": "code",
      "source": [
        "# == is equalto operator\n",
        "# = is assignment operator\n",
        "\n",
        "x=10\n",
        "if x==10: # here equalto operator is being used to check the condition and returns bool value\n",
        "  print (f\"Value of x is {x}\")\n",
        "\n",
        "y=33\n",
        "z=33+2 # here assignment operator is being used to assign a value to the variable z\n",
        "print(f\"Value of z is {z} \")"
      ],
      "metadata": {
        "id": "AMpnWEDAfet0"
      },
      "execution_count": null,
      "outputs": []
    },
    {
      "cell_type": "code",
      "source": [
        "#7  Identify the three blocks in this code:\n",
        "spam=0\n",
        "if spam ==10:\n",
        "  print('eggs')   # indentation error\n",
        "elif spam > 5:    # Operator error\n",
        "  print('bacon')  # indentation error\n",
        "else:\n",
        "  print('ham')    # indentation error\n",
        "  print('spam')   # indentation error\n",
        "  print('spam')   # indentation error\n"
      ],
      "metadata": {
        "id": "V0P9A8oAgwaM"
      },
      "execution_count": null,
      "outputs": []
    },
    {
      "cell_type": "code",
      "source": [
        "#8. Write code that prints Hello if 1 is stored in spam, prints Howdy if 2 is stored in spam, and prints Greetings! if anything else is stored in spam."
      ],
      "metadata": {
        "id": "K75iarVbhppH"
      },
      "execution_count": 49,
      "outputs": []
    },
    {
      "cell_type": "code",
      "source": [
        "#ANS:\n",
        "spam=int(input(\"Please entre number\"))\n",
        "\n",
        "if spam==1:\n",
        "  print(f\"Hello\")\n",
        "elif spam==2:\n",
        "  print(f\"Howdy\")\n",
        "else:\n",
        "  print(f\"Wow you have entered {spam}\")\n"
      ],
      "metadata": {
        "id": "59KsEG3WiROe"
      },
      "execution_count": null,
      "outputs": []
    },
    {
      "cell_type": "code",
      "source": [
        "#9 If your programme is stuck in an endless loop, what keys you’ll press?"
      ],
      "metadata": {
        "id": "LS_LYCVxjcfs"
      },
      "execution_count": 56,
      "outputs": []
    },
    {
      "cell_type": "code",
      "source": [
        "#ANS:\n",
        "#  Ctrl + C"
      ],
      "metadata": {
        "id": "6h75vJ2FkqF5"
      },
      "execution_count": 57,
      "outputs": []
    },
    {
      "cell_type": "code",
      "source": [
        "#10. How can you tell the difference between break and continue?"
      ],
      "metadata": {
        "id": "F3Fi69UUlAR5"
      },
      "execution_count": 58,
      "outputs": []
    },
    {
      "cell_type": "code",
      "source": [
        "#ANS:\n",
        "# break statement terminates the loop and resumes execution to the next statement after loop it is used when a condition met and you wish to exit the loop\n",
        "print(\"Break\")\n",
        "for i in range(1,10):\n",
        "  if i==5: # loop break when condition met\n",
        "    break\n",
        "\n",
        "  print(i)\n",
        "\n",
        "\n",
        "# continue statement skips the rest of the code within the loop\n",
        "print(\"Continue\")\n",
        "for i in range(1,10):\n",
        "  if i==2:\n",
        "    continue # it skips 2\n",
        "  print(i)"
      ],
      "metadata": {
        "id": "sRUgT5z2lXPr"
      },
      "execution_count": null,
      "outputs": []
    },
    {
      "cell_type": "code",
      "source": [
        "#11  In a for loop, what is the difference between range(10), range(0, 10), and range(0, 10, 1)?"
      ],
      "metadata": {
        "id": "fmfqEdqGrNNP"
      },
      "execution_count": 68,
      "outputs": []
    },
    {
      "cell_type": "code",
      "source": [
        "for i in range(10): # range(10) will print all the number start from 0 (default) to 9\n",
        "  print(i)\n",
        "\n",
        "for j in range(5,10):# range(0,10) #heare we have mentioned the start point and end point to print the range to print in this case it will print 0 to 9, if we replace 0 into 5 then it will return 5,6,7,8,9\n",
        "  print(j)\n",
        "\n",
        "for k in range(0,10,1):\n",
        "  print(k)\n",
        "\n",
        "for k in range(0,10,2): # here range(0,10,2) will start printing the range bu on every iteration it will take jump of 2\n",
        "  print(k)\n",
        "\n"
      ],
      "metadata": {
        "id": "Nb2gL-_isDmk"
      },
      "execution_count": null,
      "outputs": []
    },
    {
      "cell_type": "code",
      "source": [
        "#12  Write a short program that prints the numbers 1 to 10 using a for loop. Then write an equivalent program that prints the numbers 1 to 10 using a while loop.\n"
      ],
      "metadata": {
        "id": "pQhJjhoGsL8X"
      },
      "execution_count": 83,
      "outputs": []
    },
    {
      "cell_type": "code",
      "source": [
        "#ANS:\n",
        "#For Loop\n",
        "for i in range(1,11):\n",
        "  print(i)\n",
        "\n",
        "#While Loop\n",
        "number=1\n",
        "while number<11:\n",
        "  print(number)\n",
        "  number=number+1"
      ],
      "metadata": {
        "id": "LZlDJcNTtVrT"
      },
      "execution_count": null,
      "outputs": []
    },
    {
      "cell_type": "code",
      "source": [
        "#13  If you had a function named bacon() inside a module named spam, how would you call it after importing spam?"
      ],
      "metadata": {
        "id": "2rTOhsqAu8sl"
      },
      "execution_count": 4,
      "outputs": []
    },
    {
      "cell_type": "code",
      "source": [
        "#ANS:\n",
        "#spam.bacon()"
      ],
      "metadata": {
        "id": "yPz3Ks_SvNQw"
      },
      "execution_count": 1,
      "outputs": []
    }
  ]
}