{
  "nbformat": 4,
  "nbformat_minor": 0,
  "metadata": {
    "colab": {
      "provenance": []
    },
    "kernelspec": {
      "name": "python3",
      "display_name": "Python 3"
    },
    "language_info": {
      "name": "python"
    }
  },
  "cells": [
    {
      "cell_type": "code",
      "source": [
        "#1 What is the primary goal of Object-Oriented Programming (OOP)?"
      ],
      "metadata": {
        "id": "0Y2ySkwEBbzm"
      },
      "execution_count": null,
      "outputs": []
    },
    {
      "cell_type": "code",
      "source": [
        "# The primary goal of OOP is to improve the reusability, maintainability and scalability by structuring code into classes and objects, The 4 pillors of OOP is Encapsulation, Inheritance, Polymorphism and abstraction.\n",
        "# These principles helps us to writ code in a managable way which can be reuse and easy to maintain,  It easy to develop and manage complex software systems."
      ],
      "metadata": {
        "id": "VGLJuoGgujnq"
      },
      "execution_count": null,
      "outputs": []
    },
    {
      "cell_type": "code",
      "source": [
        "#2 What is an object in Python?"
      ],
      "metadata": {
        "id": "XPMkRfDuxc2W"
      },
      "execution_count": null,
      "outputs": []
    },
    {
      "cell_type": "code",
      "source": [
        "# An Object in Python is an instance of a class like Attributes and Methods.\n",
        "class Mobile:\n",
        "  def __init__(self,brand,color):\n",
        "    #Instance Examples:\n",
        "    self.brand = brand\n",
        "    self.color = color\n",
        "\n",
        "# Object Examples:\n",
        "Mobile1 = Mobile(\"Nokia\",\"Yellow\")\n",
        "Mobile2 = Mobile(\"Samsung\",\"Red\")"
      ],
      "metadata": {
        "id": "qJ9cHBG7xi9z"
      },
      "execution_count": null,
      "outputs": []
    },
    {
      "cell_type": "code",
      "source": [
        "#3 What is a class in Python?"
      ],
      "metadata": {
        "id": "_qyliA4Wy80r"
      },
      "execution_count": null,
      "outputs": []
    },
    {
      "cell_type": "code",
      "source": [
        "# Class is just like a template for creating the objects in python, its a process to organize and structure code in a manner that can be reuse.\n",
        "\n",
        "# Here Laptop is a class which is a kind of template by using we can create an object.\n",
        "class Laptop:\n",
        "  def __init__(self,model,releasing_year):\n",
        "    self.model=model\n",
        "    self.releasing_year=releasing_year"
      ],
      "metadata": {
        "id": "IZOk-G3M1CR6"
      },
      "execution_count": null,
      "outputs": []
    },
    {
      "cell_type": "code",
      "source": [
        "#4 What are attributes and methods in a class?"
      ],
      "metadata": {
        "id": "H-JVfVFv1-Cn"
      },
      "execution_count": null,
      "outputs": []
    },
    {
      "cell_type": "code",
      "source": [
        "# Attributes and Methods are two basic element that define the behavior and characteristics of an objects, attributes are variables that are stored in an object while methods are functions that are associated with an object.\n",
        "# There are two types of attributes 1. Class attributes and 2. Instance Attributes.\n",
        "# There are two types of Method 1. Class Method and 2. Instance Method.\n",
        "\n",
        "# here in below code the\n",
        "# > class name is Company\n",
        "# > company_name ,employee_count are two attributes\n",
        "# > company_catagory is a method\n",
        "\n",
        "class Company:\n",
        "  def __init__(self,company_name,employee_count):\n",
        "    self.company_name = company_name\n",
        "    self.employee_count = employee_count\n",
        "\n",
        "  def company_catagory(self):\n",
        "    if self.employee_count >2000:\n",
        "      return print(f\" The company catagory is Large Cap, the total staff count is: {self.employee_count}\")\n",
        "    else:\n",
        "      print(f\" The company catagory is small Cap, the total staff count is: {self.employee_count}\")\n",
        "\n",
        "\n"
      ],
      "metadata": {
        "id": "L-4bV-ki1_lf"
      },
      "execution_count": null,
      "outputs": []
    },
    {
      "cell_type": "code",
      "source": [
        "#5 What is the difference between class variables and instance variables in Python?"
      ],
      "metadata": {
        "id": "UrD98NT2BeJx"
      },
      "execution_count": null,
      "outputs": []
    },
    {
      "cell_type": "code",
      "source": [
        "# Class variables are shared to all the instances of a class i.e. if the value of a class variable will be changed it will be reflect in all the intances of the class.\n",
        "# Instance variables are not shared to all the instance of a class i.e. if the value of a instance variable will be chaged,the changes will be reflect in that particular instance only.\n",
        "# here in below code home_color is class variable while home1 is instance variable.\n",
        "\n",
        "\n",
        "class Home:\n",
        "  home_color=\"yellow\"\n",
        "  def __init__(self,home_state,home_city):\n",
        "    self.home_state = home_state\n",
        "    self.home_city = home_city\n",
        "\n",
        "\n",
        "home1 = Home(\"Jharkhand\",\"Dhanbad\")\n"
      ],
      "metadata": {
        "id": "ytx3AAITBsGu"
      },
      "execution_count": null,
      "outputs": []
    },
    {
      "cell_type": "code",
      "source": [
        "#6 What is the purpose of the self parameter in Python class methods?"
      ],
      "metadata": {
        "id": "bynURc5PM2rh"
      },
      "execution_count": null,
      "outputs": []
    },
    {
      "cell_type": "code",
      "source": [
        "# self parameter is used to access the attributes and methods of the class."
      ],
      "metadata": {
        "id": "DSlsOn3oNeLo"
      },
      "execution_count": null,
      "outputs": []
    },
    {
      "cell_type": "code",
      "source": [
        "#7 For a library management system, you have to design the \"Book\" class with OOP\n",
        "#   principles in mind. The “Book” class will have following attributes:\n",
        "#   a. title: Represents the title of the book.\n",
        "#   b. author: Represents the author(s) of the book.\n",
        "#   c. isbn: Represents the ISBN (International Standard Book Number) of the book.\n",
        "#   d. publication_year: Represents the year of publication of the book.\n",
        "#   e. available_copies: Represents the number of copies available for checkout.\n",
        "#  The class will also include the following methods:\n",
        "#   a. check_out(self): Decrements the available copies by one if there are copies\n",
        "#      available for checkout.\n",
        "#   b. return_book(self): Increments the available copies by one when a book is\n",
        "#      returned.\n",
        "#   c. display_book_info(self): Displays the information about the book, including its\n",
        "#      attributes and the number of available copies."
      ],
      "metadata": {
        "id": "_i6S2B4PNxGN"
      },
      "execution_count": null,
      "outputs": []
    },
    {
      "cell_type": "code",
      "source": [
        "class Book:\n",
        "  def __init__(self, title, author, isbn, publication_year, available_copies):\n",
        "    self.title = title\n",
        "    self.author = author\n",
        "    self.isbn = isbn\n",
        "    self.publication_year = publication_year\n",
        "    self.available_copies = available_copies\n",
        "\n",
        "  def check_out(self):\n",
        "    if self.available_copies>=1:\n",
        "      self.available_copies = self.available_copies-1\n",
        "      print(f\"congratulations, one copy of {self.title} has been issued to you! now available coppies are: {self.available_copies}\")\n",
        "    else:\n",
        "      print(f\"Oops, No copies are available!\")\n",
        "\n",
        "  def return_book(self):\n",
        "    self.available_copies=self.available_copies+1\n",
        "    print(f\"Thanks, to return this book now the available copies for this book is: {self.available_copies}\")\n",
        "\n",
        "  def display_book_info(self):\n",
        "    print(f\"Book Title       : {self.title}\")\n",
        "    print(f\"Author Name      : {self.author}\")\n",
        "    print(f\"ISBN Number      : {self.isbn}\")\n",
        "    print(f\"Publication Year : {self.publication_year}\")\n",
        "    print(f\"Available Copies : {self.available_copies}\")\n"
      ],
      "metadata": {
        "id": "l-bz-9WZOOvO"
      },
      "execution_count": null,
      "outputs": []
    },
    {
      "cell_type": "code",
      "source": [
        "#8. For a ticket booking system, you have to design the \"Ticket\" class with OOP\n",
        "#   principles in mind. The “Ticket” class should have the following attributes:\n",
        "#    a. ticket_id: Represents the unique identifier for the ticket.\n",
        "#    b. event_name: Represents the name of the event.\n",
        "#    c. event_date: Represents the date of the event.\n",
        "#    d. venue: Represents the venue of the event.\n",
        "#    e. seat_number: Represents the seat number associated with the ticket.\n",
        "#    f. price: Represents the price of the ticket.\n",
        "#    g. is_reserved: Represents the reservation status of the ticket.\n",
        "#  The class also includes the following methods:\n",
        "#    a. reserve_ticket(self): Marks the ticket as reserved if it is not already reserved.\n",
        "#    b. cancel_reservation(self): Cancels the reservation of the ticket if it is already\n",
        "#       reserved.\n",
        "#    c. display_ticket_info(self): Displays the information about the ticket, including its\n",
        "#       attributes and reservation status."
      ],
      "metadata": {
        "id": "1pnhC9tiei88"
      },
      "execution_count": null,
      "outputs": []
    },
    {
      "cell_type": "code",
      "source": [
        "class Ticket:\n",
        "  def __init__(self, ticket_id, event_name, event_date, venue, seat_number, price, is_reserved):\n",
        "    self.ticket_id = ticket_id\n",
        "    self.event_name = event_name\n",
        "    self.event_date = event_date\n",
        "    self.venue = venue\n",
        "    self.seat_number = seat_number\n",
        "    self.price = price\n",
        "    self.is_reserved = is_reserved\n",
        "\n",
        "  def reserve_ticket(self):\n",
        "    if self.is_reserved ==\"available\":\n",
        "      self.is_reserved = \"reserved\"\n",
        "      print(f\" Congratulations! the Ticket ID: {self.ticket_id} for the Event: {self.event_name} on dated: {self.event_date} has been reserved!\")\n",
        "    else:\n",
        "      print(f\"Sorry! Tickets are not available for the Event: {self.event_name}\")\n",
        "\n",
        "  def cancel_reservation(self):\n",
        "    if self.is_reserved == \"reserved\":\n",
        "      self.is_reserved = \"Cancel\"\n",
        "      print(f\"Oops you have cancelled the Ticket: {self.ticket_id} for the Event: {self.event_name}\")\n",
        "    else:\n",
        "      print(f\"Oops you can not cancel this ticket due to ticket is {self.is_reserved} for the reservation!\")\n",
        "\n",
        "  def display_ticket_info(self):\n",
        "    print(f\"Ticket Number     : {self.ticket_id}\")\n",
        "    print(f\"Event Name        : {self.event_name}\")\n",
        "    print(f\"Event Date        : {self.event_date}\")\n",
        "    print(f\"Event venue       : {self.venue}\")\n",
        "    print(f\"Seat Number       : {self.seat_number}\")\n",
        "    print(f\"Ticket Price      : {self.price}\")\n",
        "    print(f\"Reservation Status: {self.is_reserved}\")\n",
        "\n",
        "\n"
      ],
      "metadata": {
        "id": "ggP950e83Uq7"
      },
      "execution_count": null,
      "outputs": []
    },
    {
      "cell_type": "code",
      "source": [
        "#9. You are creating a shopping cart for an e-commerce website. Using OOP to model\n",
        "#   the \"ShoppingCart\" functionality the class should contain following attributes and\n",
        "#   methods:\n",
        "#    a. items: Represents the list of items in the shopping cart.\n",
        "#       The class also includes the following methods\n",
        "#    a. add_item(self, item): Adds an item to the shopping cart by appending it to the\n",
        "#       list of items.\n",
        "#    b. remove_item(self, item): Removes an item from the shopping cart if it exists in\n",
        "#       the list.\n",
        "#    c. view_cart(self): Displays the items currently present in the shopping cart.\n",
        "#    d. clear_cart(self): Clears all items from the shopping cart by reassigning an\n",
        "#       empty list to the items attribute"
      ],
      "metadata": {
        "id": "9kMDQEkjJYjD"
      },
      "execution_count": null,
      "outputs": []
    },
    {
      "cell_type": "code",
      "source": [
        "class shopping_cart:\n",
        "  def __init__(self):\n",
        "    self.items=[]\n",
        "\n",
        "  def add_item(self, item):\n",
        "    self.items.append(item)\n",
        "    print(f\"Congratulations the Item: {item} has been added to Shopping cart\")\n",
        "    print(f\"Current items  in cart: {self.items}\")\n",
        "\n",
        "  def remove_item(self, item):\n",
        "    if item in self.items:\n",
        "      self.items.remove(item)\n",
        "      print(f\"The Item: {item} has been removed!\")\n",
        "      print(f\"Current items  in cart: {self.items}\")\n",
        "    else:\n",
        "      print(f\"Sorry! The Item: {item} is not available in cart!\")\n",
        "      print(f\"Current items  in cart: {self.items}\")\n",
        "\n",
        "  def view_cart(self):\n",
        "    for item in self.items:\n",
        "      print(item)\n",
        "\n",
        "  def clear_cart(self):\n",
        "    self.items=[]\n",
        "    print(f\"All the items has been removed from you shopping cart\")\n",
        "    print(f\"{self.items}\")\n",
        "\n",
        "\n",
        "\n"
      ],
      "metadata": {
        "id": "2xgy4ikNvG-J"
      },
      "execution_count": null,
      "outputs": []
    },
    {
      "cell_type": "code",
      "source": [
        "#10. Imagine a school management system. You have to design the \"Student\" class using\n",
        "#    OOP concepts.The “Student” class has the following attributes:\n",
        "#      a. name: Represents the name of the student.\n",
        "#      b. age: Represents the age of the student.\n",
        "#      c. grade: Represents the grade or class of the student.\n",
        "#      d. student_id: Represents the unique identifier for the student.\n",
        "#      e. attendance: Represents the attendance record of the student.\n",
        "#   The class should also include the following methods:\n",
        "#      a. update_attendance(self, date, status): Updates the attendance record of the\n",
        "#         student for a given date with the provided status (e.g., present or absent).\n",
        "#      b. get_attendance(self): Returns the attendance record of the student.\n",
        "#      c. get_average_attendance(self): Calculates and returns the average\n",
        "#         attendance percentage of the student based on their attendance record.\n"
      ],
      "metadata": {
        "id": "56xmkubs6QbK"
      },
      "execution_count": null,
      "outputs": []
    },
    {
      "cell_type": "code",
      "source": [
        "class Student:\n",
        "  def __init__(self, name, age, grade, student_id):\n",
        "    self.name = name\n",
        "    self.age = age\n",
        "    self.grade = grade\n",
        "    self.student_id = student_id\n",
        "    self.attendence = {}\n",
        "\n",
        "  def update_attendence(self,date,mark_attendence):\n",
        "    self.attendence[date]= mark_attendence\n",
        "\n",
        "  def get_attendence(self):\n",
        "    return self.attendence\n",
        "\n",
        "  def get_Average_attendence(self):\n",
        "    no_of_days=len(self.attendence)\n",
        "    present_days=list(self.attendence.values()).count(\"present\")\n",
        "    average_attendence=(present_days/no_of_days)*100\n",
        "    return \"The averange attendence of \"+ self.name+\" is: \"+ str(average_attendence) +\" %\""
      ],
      "metadata": {
        "id": "lH83wlfk7nkG"
      },
      "execution_count": 87,
      "outputs": []
    },
    {
      "cell_type": "code",
      "source": [
        "#Test\n",
        "Student1=Student(\"Sandeep Kumar Biswas\",29,\"A\",\"ID9204\")\n",
        "\n",
        "Student1.update_attendence(\"2023-07-01\", \"present\")\n",
        "Student1.update_attendence(\"2023-07-02\", \"absent\")\n",
        "Student1.update_attendence(\"2023-07-03\", \"present\")\n",
        "\n",
        "print(Student1.get_attendence())\n",
        "\n",
        "print(Student1.get_Average_attendence())"
      ],
      "metadata": {
        "id": "Ql0WP2D2u4nJ"
      },
      "execution_count": null,
      "outputs": []
    }
  ]
}