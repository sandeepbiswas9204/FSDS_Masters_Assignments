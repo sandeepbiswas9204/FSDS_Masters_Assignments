{
  "nbformat": 4,
  "nbformat_minor": 0,
  "metadata": {
    "colab": {
      "provenance": []
    },
    "kernelspec": {
      "name": "python3",
      "display_name": "Python 3"
    },
    "language_info": {
      "name": "python"
    }
  },
  "cells": [
    {
      "cell_type": "code",
      "execution_count": 1,
      "metadata": {
        "id": "CvNdMc9JTSlb"
      },
      "outputs": [],
      "source": [
        "#Q.1. Create two int type variables, apply addition, subtraction, division and multiplications\n",
        "#and store the results in variables. Then print the data in the following format by calling the\n",
        "#variables:"
      ]
    },
    {
      "cell_type": "code",
      "source": [
        "#ANS:\n",
        "\n",
        "first_variable=30 #int(input(\"Please input number: \"))\n",
        "second_variable= first_variable+34\n",
        "\n",
        "print(\" First Variable is: \",first_variable,\"& Second Variable is: \",second_variable,\"\\n\",\"Addition:            \",first_variable,\"+\", second_variable,\"=\",first_variable + second_variable,\\\n",
        "      \"\\n\", \"Substraction:        \",first_variable,\"-\",second_variable,\"=\",first_variable-second_variable,\"\\n\",\"Multiplication:      \",first_variable,\"*\",second_variable,\"=\",first_variable*second_variable,\\\n",
        "      \"\\n\", \"Division:            \",first_variable,\"/\",second_variable,\"=\",first_variable/second_variable)\n"
      ],
      "metadata": {
        "id": "VAMo7brhTmn-"
      },
      "execution_count": null,
      "outputs": []
    },
    {
      "cell_type": "code",
      "source": [
        "#Q.2. What is the difference between the following operators:\n",
        "\n",
        "#(i) ‘/’ & ‘//’\n",
        "#(ii) ‘**’ & ‘^’"
      ],
      "metadata": {
        "id": "LChtvYfbURG9"
      },
      "execution_count": 26,
      "outputs": []
    },
    {
      "cell_type": "code",
      "source": [
        "from os import replace\n",
        "# / Regular Division: the result of the division will be a float means the result can have decimal values\n",
        "# // Floor Division:  it rounds down the result to the nearest integer (lessthan or equalto quotient)\n",
        "\n",
        "a=20\n",
        "b=3\n",
        "print(\"Regular Division (/): \", a / b)\n",
        "print(\"Regular Division (//): \", a // b)\n",
        "\n",
        "\n",
        "\n",
        "\n",
        "#** Exponential power: it indicates exponentiation\n",
        "# ^ Bitwise XOR:\n",
        "\n",
        "print(\"Exponential power (**): \",a**b)\n",
        "print(\"Bitwise XOR (^): \",a^b, \"# here it performs a bit wise operation i.e. binary representations of \", a ,\" is: \", bin(a) ,\"and binary representation of \", b , \"is: \",bin(b),\"\\n\",\\\n",
        "      \"                      after performing the binary operation as\", a ,\"^\", b , \"the resulted binery representation is: \", bin(a^b),\" which denotes the number: \",a^b )"
      ],
      "metadata": {
        "id": "NBUFHs-SXAhK"
      },
      "execution_count": null,
      "outputs": []
    },
    {
      "cell_type": "code",
      "source": [
        "##Q.3. List the logical operators."
      ],
      "metadata": {
        "id": "Gr9R19CmXXOz"
      },
      "execution_count": 59,
      "outputs": []
    },
    {
      "cell_type": "code",
      "source": [
        "#ANS:\n",
        "\n",
        "# Logical Operator which returns the bool value i.e. True or False in pytone.\n",
        "\n",
        "#Logical Operator and\n",
        "#Logical Operator or\n",
        "#Logical Operator not\n",
        "\n",
        "a= True\n",
        "b=False\n",
        "\n",
        "print(\" Logical Operator and: \",a and b ,\"\\n\",\\\n",
        "      \"Logical Operator or: \",a or b,\"\\n\",\\\n",
        "      \"Logical Operator not: \", not a)\n"
      ],
      "metadata": {
        "id": "WduykpSObFNY"
      },
      "execution_count": null,
      "outputs": []
    },
    {
      "cell_type": "code",
      "source": [
        "#Q.4. Explain right shift operator and left shift operator with examples."
      ],
      "metadata": {
        "id": "yAtdJJsvbHja"
      },
      "execution_count": 59,
      "outputs": []
    },
    {
      "cell_type": "code",
      "source": [
        "# right shift >>\n",
        "# left shift  <<\n",
        "\n",
        "\n",
        "#these operators are used to perform bitwise operations on integers it shift the bits of an integer left or right by a specified number of positions.\n",
        "\n",
        "#E.g\n",
        "\n",
        "a=10\n",
        "b=2\n",
        "print(\"Binary of a: \",bin(a))\n",
        "print(\"Binary of b: \",bin(b))\n",
        "print(\"Binary of a>>b after right shift: \",bin(a>>b))\n",
        "print(\"Result after right shift: \", a>>b,\"  #it moves the bits of an integer to the right by the specified number of positions and the vacant bit positions on the left are filled with the sign bit 0\")\n",
        "print(\"\\n\")\n",
        "print(\"Binary of a: \",bin(a))\n",
        "print(\"Binary of b: \",bin(b))\n",
        "print(\"Binary of a<<b after left shift: \",bin(a<<b))\n",
        "print(\"Result after left shift: \", a<<b,\" #it moves the bits of an integer to the left by the specified number of positions and the vacant bit positions on the right are filled with the sign bit 0\")\n",
        "\n"
      ],
      "metadata": {
        "id": "-kREmQtEmd9Y"
      },
      "execution_count": null,
      "outputs": []
    },
    {
      "cell_type": "code",
      "source": [
        "#Q.5. Create a list containing int type data of length 15. Then write a code to check if 10 is present in the list or not."
      ],
      "metadata": {
        "id": "_uE-rWMRbLZn"
      },
      "execution_count": 63,
      "outputs": []
    },
    {
      "cell_type": "code",
      "source": [
        "my_list=[1,2,3,4,5,6,7,8,9,10,12,13,14,15,16]\n",
        "a=10\n",
        "if a in my_list:\n",
        "  print(a, \" is presetn in my_list\")\n",
        "else:\n",
        "  print(\" a is not present in my_list\")\n"
      ],
      "metadata": {
        "id": "AOHbhZJ4ltU_"
      },
      "execution_count": null,
      "outputs": []
    }
  ]
}