{
  "nbformat": 4,
  "nbformat_minor": 0,
  "metadata": {
    "colab": {
      "provenance": [],
      "gpuType": "T4"
    },
    "kernelspec": {
      "name": "python3",
      "display_name": "Python 3"
    },
    "language_info": {
      "name": "python"
    },
    "accelerator": "GPU"
  },
  "cells": [
    {
      "cell_type": "code",
      "execution_count": null,
      "metadata": {
        "id": "WXLtZYPTVOhX"
      },
      "outputs": [],
      "source": [
        "#Q.1. What are keywords in python? Using the keyword library, print all the python keywords."
      ]
    },
    {
      "cell_type": "code",
      "source": [
        "# keywords in pyton are the reserved words that have special meanings and serve as the building blocks of the syntax.\n",
        "# These keywords are used to define control structures, loops, functions, classes, and various other programming constructs.\n",
        "\n",
        "import keyword\n",
        "print(\"Python Keywords are:\")\n",
        "print(\",\".join(keyword.kwlist))"
      ],
      "metadata": {
        "id": "1zOXc5wRVVpu"
      },
      "execution_count": null,
      "outputs": []
    },
    {
      "cell_type": "code",
      "source": [
        "#Q.2. What are the rules to create variables in python?"
      ],
      "metadata": {
        "id": "2Re8yW1pVbiK"
      },
      "execution_count": null,
      "outputs": []
    },
    {
      "cell_type": "code",
      "source": [
        "#ANS:\n",
        "#1 It starts with a letter or an underscore\n",
        "#2 after the first letter it should be contains only letters, numbers and underscore it can not contains space and special character.\n",
        "#3 reserved keyboards could not be a variable\n",
        "#4 space between two words can not be considered can use underscore instead of space"
      ],
      "metadata": {
        "id": "edUP6LH-WtKi"
      },
      "execution_count": null,
      "outputs": []
    },
    {
      "cell_type": "code",
      "source": [
        "#Q.3.  What are the standards and conventions followed for the nomenclature of variables in python to improve code readability and maintainability?"
      ],
      "metadata": {
        "id": "3gqF9VuUW7rO"
      },
      "execution_count": null,
      "outputs": []
    },
    {
      "cell_type": "code",
      "source": [
        "# there are some standards and conventions followed for naming variables to improve code readability and maintainability.\n",
        "#These conventions are not enforced by the Python language itself but are widely adopted by the Python developers.\n",
        "\n",
        "\n",
        "#1    Snake Case: use lower case letters and seperate words with underscore E.g. first_name, second_name\n",
        "\n",
        "#2    Camel Case: start variable names with lowercase letters and capitalize the first letter of each subsequent word E.g. firstName, lastName\n",
        "\n",
        "#3    ALL_CAPS:   use uppercase letters and underscores to represent constants or variables that should not be modified E.g. MY_AGE, MY_ROLL_NUMBER\n",
        "\n",
        "#4    Single Leading Underscore: use a single leading underscore to indicate that a variable or method is intended for internal use only E.g. _internal_method, _private_variable\n",
        "\n",
        "#5    Double Leading Underscore: use double leading underscores to indicate name mangling. This is basically used for attributes in classes to avoid name clashes between parent and child classes.E.g. __private_variable\n",
        "\n",
        "#6    Triple Leading and Trailing Underscores (Dunder): Use triple underscores for special methods (also known as dunder methods) E.g. __init__, __str__, __repr__\n",
        "\n",
        "#7    Meaningful and Descriptive Names:  choose variable names that are meaningful and describe the purpose of the variable\n",
        "\n",
        "     #by following these standards and conventions, python code will be more readable, maintainable"
      ],
      "metadata": {
        "id": "BFTkOtQZXdla"
      },
      "execution_count": null,
      "outputs": []
    },
    {
      "cell_type": "code",
      "source": [
        "#Q.4.  What will happen if a keyword is used as a variable name?"
      ],
      "metadata": {
        "id": "KR3xu3oVXhYw"
      },
      "execution_count": null,
      "outputs": []
    },
    {
      "cell_type": "code",
      "source": [
        "#ANS:it will result in a syntax error!\n",
        "\n",
        "if=10\n",
        "if"
      ],
      "metadata": {
        "id": "LjJqYrn_BwoZ"
      },
      "execution_count": null,
      "outputs": []
    },
    {
      "cell_type": "code",
      "source": [
        "#Q.5.  For what purpose def keyword is used?"
      ],
      "metadata": {
        "id": "OdZLEzyJBz4Q"
      },
      "execution_count": null,
      "outputs": []
    },
    {
      "cell_type": "code",
      "source": [
        "#ANS:  def function is used in Python to define user-defined functions.\n",
        "\n",
        "def name():\n",
        "  return\n",
        "\n"
      ],
      "metadata": {
        "id": "XMeprcH4CV_A"
      },
      "execution_count": null,
      "outputs": []
    },
    {
      "cell_type": "code",
      "source": [
        "#Q.6.  What is the operation of this special character ‘\\’?"
      ],
      "metadata": {
        "id": "T4Z88IbACqvS"
      },
      "execution_count": null,
      "outputs": []
    },
    {
      "cell_type": "code",
      "source": [
        "#ANS:\n",
        "# \\ is called the backslash in Python and it serves as an escape character it has various uses as mentioned below.\n",
        "\n",
        "\n",
        "# Escape Sequences: backslash is used to represent escape sequences in string\n",
        "#E.g. new_line = \\n\n",
        "#      tab     = \\t\n",
        "#    backslash = \\\\\n",
        "\n",
        "#Special Characters in Strings:it is used to include single or double quote within a string\n",
        "#E.g.\n",
        "single_quote_str='Hi! \\'My name is Sandeep Biswas\\''\n",
        "double_quote_str=\"Hi! \\\"My name is Sandeep Biswas\\\"\"\n",
        "\n",
        "print(single_quote_str)\n",
        "print(double_quote_str)\n",
        "\n",
        "#Unicode Escape: it is used for representing Unicode characters\n",
        "#E.g.\n",
        "euro_sign = \"\\u20AC\"\n",
        "smiley_face = \"\\u263A\"\n",
        "heart_symbol =  \"\\u2665\"\n",
        "print(euro_sign)\n",
        "print(smiley_face)\n",
        "print(heart_symbol)\n",
        "\n",
        "# Line Continuation: when we writes a long code we can use a backslash at the end of the line to continue the statement on the next line.\n",
        "#E.g.\n",
        "\n",
        "my_name= \"sandeep kumar\\\n",
        " biswas\"\n",
        "print(my_name)\n",
        "\n",
        "# Raw Strings: by placing r or R before the string you can create a raw string\n",
        "#E.g.\n",
        "my_address=r\"Gurgaon sec 17 \\n and now leaving in Rajasthan\"\n",
        "print(my_address)\n",
        "\n",
        "# It is also used for specific cotext in regular expressions it is also used as a directory separator in file paths on Windows systems"
      ],
      "metadata": {
        "id": "KaZ2IB4xNRyt"
      },
      "execution_count": null,
      "outputs": []
    },
    {
      "cell_type": "code",
      "source": [
        "#Q.7.  Give an example of the following conditions:\n",
        "#(i) Homogeneous list\n",
        "#(ii) Heterogeneous set\n",
        "#(iii) Homogeneous tuple"
      ],
      "metadata": {
        "id": "gVJoqmSEMV_J"
      },
      "execution_count": null,
      "outputs": []
    },
    {
      "cell_type": "code",
      "source": [
        "#ANS:\n",
        "#(i) Homogeneous list: elements of the same data type\n",
        "my_Homogeneous_list=[1,2,4,5,6,7]\n",
        "print(\"Homogeneous list : \",my_Homogeneous_list)\n",
        "\n",
        "#(ii) Heterogeneous set: elements of different data types\n",
        "my_Heterogeneous_set={1, \"apple\", 3.14}\n",
        "print(\"Heterogeneous set : \",my_Heterogeneous_set)\n",
        "\n",
        "\n",
        "#(iii) Homogeneous tuple\n",
        "my_Homogeneous_tuple=(1, 2, 3, 4, 5)\n",
        "print(\"Homogeneous tuple : \",my_Homogeneous_tuple)\n"
      ],
      "metadata": {
        "colab": {
          "base_uri": "https://localhost:8080/"
        },
        "id": "p-fzq7HATaMP",
        "outputId": "a141580a-2eed-4570-c6c1-aa8128bdefed"
      },
      "execution_count": null,
      "outputs": [
        {
          "output_type": "stream",
          "name": "stdout",
          "text": [
            "Homogeneous list :  [1, 2, 4, 5, 6, 7]\n",
            "Heterogeneous set :  {1, 3.14, 'apple'}\n",
            "Homogeneous tuple :  (1, 2, 3, 4, 5)\n"
          ]
        }
      ]
    },
    {
      "cell_type": "code",
      "source": [
        "#Q.8.  Explain the mutable and immutable data types with proper explanation & examples."
      ],
      "metadata": {
        "id": "DTVnLadFMc4l"
      },
      "execution_count": null,
      "outputs": []
    },
    {
      "cell_type": "code",
      "source": [
        "#mutable data types\n",
        "\n",
        "#Mutable data types are data structures whose values can be changed after they are created. This means you can modify the existing data without creating a new instance in memory.\n",
        "#Since the memory location of the object remains the same so  any references to that object will see the updated value.\n",
        "\n",
        "list1 = [1, 2, 3, 4, 5]\n",
        "list1.append(6)\n",
        "print(list1)\n",
        "list1.remove(6)\n",
        "print(list1)\n",
        "\n",
        "\n",
        "#immutable data types\n",
        "#Immutable data types are data structures whose values cannot be changed after they are created Once an object of an immutable type is created,\n",
        "#any operation that appears to modify the data will create a new object in memory with the updated value. The original object remains unchanged.\n",
        "\n",
        "tuple1=(1,2,3,4)\n",
        "tuple1[2]=100  # 'tuple' object does not support item assignment\n",
        "\n",
        "string1=\"Sandeep\"\n",
        "string1[2]=\"c\" #'str' object does not support item assignment\n",
        "\n"
      ],
      "metadata": {
        "id": "28x7RY3V6jeY"
      },
      "execution_count": null,
      "outputs": []
    },
    {
      "cell_type": "code",
      "source": [
        "#Q.9.  Write a code to create the given structure using only for loop."
      ],
      "metadata": {
        "id": "cuHKvV08Mup8"
      },
      "execution_count": null,
      "outputs": []
    },
    {
      "cell_type": "code",
      "source": [
        "def pattern1(n): # 🥲to be honest result comes into arount more than 50th attempt\n",
        "    for i in range(1,n+1):\n",
        "        print(\" \"*(n-i)+\"* \"*i)\n",
        "\n",
        "pattern1(5)"
      ],
      "metadata": {
        "id": "fuhmOAXhFItP",
        "colab": {
          "base_uri": "https://localhost:8080/"
        },
        "outputId": "c447280d-7795-4dba-dfe3-c8f5e4e67de3"
      },
      "execution_count": 98,
      "outputs": [
        {
          "output_type": "stream",
          "name": "stdout",
          "text": [
            "    * \n",
            "   * * \n",
            "  * * * \n",
            " * * * * \n",
            "* * * * * \n"
          ]
        }
      ]
    },
    {
      "cell_type": "code",
      "source": [
        "#Q.10.  Write a code to create the given structure using while loop."
      ],
      "metadata": {
        "id": "oY1geMFMMzUr"
      },
      "execution_count": 99,
      "outputs": []
    },
    {
      "cell_type": "code",
      "source": [
        "def pattern2(n): #🥲 can't tell you the attempt tryig to solve this since 3 and half days.\n",
        "    for i in range(n,0,-1):\n",
        "        print(\" \"*(n-i)+\" |\"*i)\n",
        "\n",
        "pattern2(5)"
      ],
      "metadata": {
        "id": "uSodDPrfM3c2",
        "colab": {
          "base_uri": "https://localhost:8080/"
        },
        "outputId": "48de3352-7297-44a4-98d9-ad8204a8e585"
      },
      "execution_count": 101,
      "outputs": [
        {
          "output_type": "stream",
          "name": "stdout",
          "text": [
            " | | | | |\n",
            "  | | | |\n",
            "   | | |\n",
            "    | |\n",
            "     |\n"
          ]
        }
      ]
    },
    {
      "cell_type": "code",
      "source": [],
      "metadata": {
        "id": "b7JXnd6tSWUb"
      },
      "execution_count": null,
      "outputs": []
    }
  ]
}